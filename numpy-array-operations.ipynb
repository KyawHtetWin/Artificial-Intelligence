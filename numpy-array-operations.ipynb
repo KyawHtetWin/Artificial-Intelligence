{
 "cells": [
  {
   "cell_type": "markdown",
   "metadata": {},
   "source": [
    "# Five Numpy functions you didn't know you need\n",
    "#### By Kyaw Htet Paing Win\n",
    "\n",
    "\n",
    "### Interesting Numpy functions \n",
    "\n",
    "Numpy is a popular Python library that has been optimized to perform calculations on large amount of data stored in an array data structure. Let's see some useful functions to augment your ability to process large data! We will cover the following 5 important functions in this notebook\n",
    "\n",
    "- argsort\n",
    "- apply_along_axis\n",
    "- tile\n",
    "- meshgrid\n",
    "- extract"
   ]
  },
  {
   "cell_type": "code",
   "execution_count": 1,
   "metadata": {},
   "outputs": [],
   "source": [
    "!pip install jovian --upgrade -q"
   ]
  },
  {
   "cell_type": "code",
   "execution_count": 2,
   "metadata": {},
   "outputs": [],
   "source": [
    "import jovian"
   ]
  },
  {
   "cell_type": "code",
   "execution_count": 3,
   "metadata": {},
   "outputs": [
    {
     "data": {
      "application/javascript": [
       "window.require && require([\"base/js/namespace\"],function(Jupyter){Jupyter.notebook.save_checkpoint()})"
      ],
      "text/plain": [
       "<IPython.core.display.Javascript object>"
      ]
     },
     "metadata": {},
     "output_type": "display_data"
    },
    {
     "name": "stdout",
     "output_type": "stream",
     "text": [
      "[jovian] Updating notebook \"kyawhtetwin/numpy-array-operations\" on https://jovian.ai\u001b[0m\n",
      "[jovian] Committed successfully! https://jovian.ai/kyawhtetwin/numpy-array-operations\u001b[0m\n"
     ]
    },
    {
     "data": {
      "text/plain": [
       "'https://jovian.ai/kyawhtetwin/numpy-array-operations'"
      ]
     },
     "execution_count": 3,
     "metadata": {},
     "output_type": "execute_result"
    }
   ],
   "source": [
    "jovian.commit(project='numpy-array-operations')"
   ]
  },
  {
   "cell_type": "markdown",
   "metadata": {},
   "source": [
    "Let's begin by importing Numpy and listing out the functions covered in this notebook."
   ]
  },
  {
   "cell_type": "code",
   "execution_count": 4,
   "metadata": {},
   "outputs": [],
   "source": [
    "import numpy as np"
   ]
  },
  {
   "cell_type": "code",
   "execution_count": 5,
   "metadata": {},
   "outputs": [],
   "source": [
    "# List of functions explained \n",
    "function1 = np.argsort\n",
    "function2 = np.apply_along_axis\n",
    "function3 = np.tile\n",
    "function4 = np.meshgrid\n",
    "function5 = np.extract"
   ]
  },
  {
   "cell_type": "markdown",
   "metadata": {},
   "source": [
    "## Function 1 - argsort \n",
    "\n",
    "First, sorting! Let's say you want to retrieve indices of a Numpy array after it has been sorted. You can use argsort to do that along any dimension.  "
   ]
  },
  {
   "cell_type": "code",
   "execution_count": 6,
   "metadata": {},
   "outputs": [
    {
     "name": "stdout",
     "output_type": "stream",
     "text": [
      "[1 2 4 0 3]\n"
     ]
    }
   ],
   "source": [
    "# Example 1: Simple 1 dimensional array\n",
    "arr1 = np.array([4, -9, 0, 6, 1])\n",
    "idx1 = np.argsort(arr1, kind='stable')\n",
    "print(idx1)"
   ]
  },
  {
   "cell_type": "markdown",
   "metadata": {},
   "source": [
    "We see that argsort returns the indices that would have sorted the original array.\n",
    "* kind: Specifies a sorting algorithm. I have opted to use the most stable algorithm among its available algorithm. Note: default algorithm is 'quicksort' "
   ]
  },
  {
   "cell_type": "code",
   "execution_count": 7,
   "metadata": {},
   "outputs": [],
   "source": [
    "# Example 2: In 2-dimensional array, sorting along multiple axis \n",
    "arr2 = np.array([\n",
    "    [9, -1, -1, 5],\n",
    "    [7, 3, -4, 9]\n",
    "])"
   ]
  },
  {
   "cell_type": "code",
   "execution_count": 8,
   "metadata": {},
   "outputs": [
    {
     "name": "stdout",
     "output_type": "stream",
     "text": [
      "[[1 0 1 0]\n",
      " [0 1 0 1]]\n"
     ]
    }
   ],
   "source": [
    "idx2 = np.argsort(arr2, axis=0, kind='stable')\n",
    "print(idx2)"
   ]
  },
  {
   "cell_type": "markdown",
   "metadata": {},
   "source": [
    "Notice that arr2 has shape (2, 4) along axis 0 and 1 respectively. So, what if we are interested in indices of sorting along a particular axis? In above example, I have specified axis 0 (visualize it as downwards). Well, since arr2's first dimension (i.e. axis 0) is 2, you see that indices argsort returns range from 0 to 1. If you pay attention to the first \"column\" (along axis=0) of arr2, you see that 7 at index 1 is smaller than 9 at index 0. Thus, you see that argsort returns [1 0] as its first column. \n",
    "* axis: Specifies the axis to sort along. Default -1\n",
    "\n",
    "As you would expect, the shape of indices that argsort returns matches the shape of original array since they are indexes of the original array."
   ]
  },
  {
   "cell_type": "code",
   "execution_count": 9,
   "metadata": {},
   "outputs": [
    {
     "name": "stdout",
     "output_type": "stream",
     "text": [
      "[[1 2 3 0]\n",
      " [2 1 0 3]]\n"
     ]
    }
   ],
   "source": [
    "# Along the second axis\n",
    "idx3 = np.argsort(arr2, axis=1, kind='stable')\n",
    "print(idx3)"
   ]
  },
  {
   "cell_type": "markdown",
   "metadata": {},
   "source": [
    "See if you can explain the result along second axis yourself. Notice that the indices of same element also seem to be sorted."
   ]
  },
  {
   "cell_type": "code",
   "execution_count": 10,
   "metadata": {},
   "outputs": [
    {
     "name": "stdout",
     "output_type": "stream",
     "text": [
      "[[1 2 3 0]\n",
      " [2 1 0 3]]\n"
     ]
    }
   ],
   "source": [
    "idx4 = np.argsort(arr2, kind='stable')\n",
    "print(idx4)"
   ]
  },
  {
   "cell_type": "markdown",
   "metadata": {},
   "source": [
    "Notice that axis defaults to -1 (i.e. the last axis). So we see the same result as when setting axis to 1"
   ]
  },
  {
   "cell_type": "markdown",
   "metadata": {},
   "source": [
    "Side Note: What if you also want to retrieve the original values according to these sorted indices? In that case, you can use take_along_axis() as seen below along with argsort to accomplish it. In effect, we have mimic the implementation of np.sort(). Check out np.sort in documentation."
   ]
  },
  {
   "cell_type": "code",
   "execution_count": 11,
   "metadata": {},
   "outputs": [
    {
     "name": "stdout",
     "output_type": "stream",
     "text": [
      "[[-1 -1  5  9]\n",
      " [-4  3  7  9]]\n"
     ]
    }
   ],
   "source": [
    "sorted_arr2 = np.take_along_axis(arr2, idx4, axis=1)\n",
    "print(sorted_arr2)"
   ]
  },
  {
   "cell_type": "code",
   "execution_count": 12,
   "metadata": {},
   "outputs": [
    {
     "ename": "IndexError",
     "evalue": "index 2 is out of bounds for axis 0 with size 2",
     "output_type": "error",
     "traceback": [
      "\u001b[0;31m---------------------------------------------------------------------------\u001b[0m",
      "\u001b[0;31mIndexError\u001b[0m                                Traceback (most recent call last)",
      "\u001b[0;32m/tmp/ipykernel_641/1213837205.py\u001b[0m in \u001b[0;36m<module>\u001b[0;34m\u001b[0m\n\u001b[1;32m      1\u001b[0m \u001b[0;31m# Example 3 (Wrong Use Case) - Be mindful of which axis the sorting occurs\u001b[0m\u001b[0;34m\u001b[0m\u001b[0;34m\u001b[0m\u001b[0m\n\u001b[0;32m----> 2\u001b[0;31m \u001b[0mincorrect_sorted_arr2\u001b[0m \u001b[0;34m=\u001b[0m \u001b[0mnp\u001b[0m\u001b[0;34m.\u001b[0m\u001b[0mtake_along_axis\u001b[0m\u001b[0;34m(\u001b[0m\u001b[0marr2\u001b[0m\u001b[0;34m,\u001b[0m \u001b[0midx4\u001b[0m\u001b[0;34m,\u001b[0m \u001b[0maxis\u001b[0m\u001b[0;34m=\u001b[0m\u001b[0;36m0\u001b[0m\u001b[0;34m)\u001b[0m\u001b[0;34m\u001b[0m\u001b[0;34m\u001b[0m\u001b[0m\n\u001b[0m\u001b[1;32m      3\u001b[0m \u001b[0mprint\u001b[0m\u001b[0;34m(\u001b[0m\u001b[0mincorrect_sorted_arr2\u001b[0m\u001b[0;34m)\u001b[0m\u001b[0;34m\u001b[0m\u001b[0;34m\u001b[0m\u001b[0m\n",
      "\u001b[0;32m<__array_function__ internals>\u001b[0m in \u001b[0;36mtake_along_axis\u001b[0;34m(*args, **kwargs)\u001b[0m\n",
      "\u001b[0;32m/opt/conda/lib/python3.9/site-packages/numpy/lib/shape_base.py\u001b[0m in \u001b[0;36mtake_along_axis\u001b[0;34m(arr, indices, axis)\u001b[0m\n\u001b[1;32m    168\u001b[0m \u001b[0;34m\u001b[0m\u001b[0m\n\u001b[1;32m    169\u001b[0m     \u001b[0;31m# use the fancy index\u001b[0m\u001b[0;34m\u001b[0m\u001b[0;34m\u001b[0m\u001b[0m\n\u001b[0;32m--> 170\u001b[0;31m     \u001b[0;32mreturn\u001b[0m \u001b[0marr\u001b[0m\u001b[0;34m[\u001b[0m\u001b[0m_make_along_axis_idx\u001b[0m\u001b[0;34m(\u001b[0m\u001b[0marr_shape\u001b[0m\u001b[0;34m,\u001b[0m \u001b[0mindices\u001b[0m\u001b[0;34m,\u001b[0m \u001b[0maxis\u001b[0m\u001b[0;34m)\u001b[0m\u001b[0;34m]\u001b[0m\u001b[0;34m\u001b[0m\u001b[0;34m\u001b[0m\u001b[0m\n\u001b[0m\u001b[1;32m    171\u001b[0m \u001b[0;34m\u001b[0m\u001b[0m\n\u001b[1;32m    172\u001b[0m \u001b[0;34m\u001b[0m\u001b[0m\n",
      "\u001b[0;31mIndexError\u001b[0m: index 2 is out of bounds for axis 0 with size 2"
     ]
    }
   ],
   "source": [
    "# Example 3 (Wrong Use Case) - Be mindful of which axis the sorting occurs \n",
    "incorrect_sorted_arr2 = np.take_along_axis(arr2, idx4, axis=0)\n",
    "print(incorrect_sorted_arr2)"
   ]
  },
  {
   "cell_type": "markdown",
   "metadata": {},
   "source": [
    "In example 3, the indices of the first dimension can't exceed 1. So it breaks if we don't pass in the correct axis that we are sorting along.  "
   ]
  },
  {
   "cell_type": "markdown",
   "metadata": {},
   "source": [
    "Remember argsort() when you need indices of the sorted array. You also saw how we can create the sorted array using argosrt() in conjunction with take_along_axis()"
   ]
  },
  {
   "cell_type": "code",
   "execution_count": 13,
   "metadata": {},
   "outputs": [
    {
     "data": {
      "application/javascript": [
       "window.require && require([\"base/js/namespace\"],function(Jupyter){Jupyter.notebook.save_checkpoint()})"
      ],
      "text/plain": [
       "<IPython.core.display.Javascript object>"
      ]
     },
     "metadata": {},
     "output_type": "display_data"
    },
    {
     "name": "stdout",
     "output_type": "stream",
     "text": [
      "[jovian] Updating notebook \"kyawhtetwin/numpy-array-operations\" on https://jovian.ai\u001b[0m\n",
      "[jovian] Committed successfully! https://jovian.ai/kyawhtetwin/numpy-array-operations\u001b[0m\n"
     ]
    },
    {
     "data": {
      "text/plain": [
       "'https://jovian.ai/kyawhtetwin/numpy-array-operations'"
      ]
     },
     "execution_count": 13,
     "metadata": {},
     "output_type": "execute_result"
    }
   ],
   "source": [
    "jovian.commit()"
   ]
  },
  {
   "cell_type": "markdown",
   "metadata": {},
   "source": [
    "## Function 2 - apply_along_axis\n",
    "\n",
    "Suppose we have some rows and columns of a dataset. We are interested in certain statistics across rows or columns. How can we solve that? Let's take a look."
   ]
  },
  {
   "cell_type": "code",
   "execution_count": 14,
   "metadata": {},
   "outputs": [],
   "source": [
    "\"\"\"\n",
    "Example 1:\n",
    "I am interested in finding the difference between the max & min value \n",
    "of each column in the data below (i.e. first column=[9, 6, 1] etc..)\n",
    "\"\"\"\n",
    "data1 = np.array([\n",
    "                 [9., 14., 3, 4],\n",
    "                 [6, 12, 4, 9],\n",
    "                 [1 , 0, 13, 14]\n",
    "                ])"
   ]
  },
  {
   "cell_type": "code",
   "execution_count": 15,
   "metadata": {},
   "outputs": [],
   "source": [
    "# Helper function \n",
    "def max_min_diff(arr):\n",
    "    \"\"\"\n",
    "    Returns the difference between the max value & min value \n",
    "    in the given 1D array\n",
    "    \"\"\"\n",
    "    return np.amax(arr) - np.amin(arr)"
   ]
  },
  {
   "cell_type": "markdown",
   "metadata": {},
   "source": [
    "I can use apply_along_axis as follows:\n",
    "* func1d: Expects a function that describes what operation to perform on 1D array\n",
    "* axis: The axis along which arr is sliced\n",
    "* arr: Numpy ndarray"
   ]
  },
  {
   "cell_type": "code",
   "execution_count": 16,
   "metadata": {},
   "outputs": [
    {
     "data": {
      "text/plain": [
       "array([ 8., 14., 10., 10.])"
      ]
     },
     "execution_count": 16,
     "metadata": {},
     "output_type": "execute_result"
    }
   ],
   "source": [
    "np.apply_along_axis(func1d=max_min_diff, axis=0, arr=data1)"
   ]
  },
  {
   "cell_type": "markdown",
   "metadata": {},
   "source": [
    "This function first slices the array. Since I have specified the axis to 0 (i.e. I want everything along axis 0), it extracts 1D slice from arr[:, 0] which is [9., 6., 1.] and pass it to the function that I write, which in turn returns the difference 8. So on and so forth. Thus, you see the differences between max & min of each column in the data."
   ]
  },
  {
   "cell_type": "code",
   "execution_count": 17,
   "metadata": {},
   "outputs": [],
   "source": [
    "\"\"\"\n",
    "Example 2: \n",
    "Quite often when we have missing values in your data, you want to \n",
    "replace them with certain computed values (such as mean, median, ...)\n",
    "Let's see how we can use apply_along_axis function to do that. \n",
    "\"\"\"\n",
    "data = np.array([\n",
    "    [10, 200, 50], \n",
    "    [np.nan, 400, 60],\n",
    "    [20, np.nan, 50],\n",
    "    [40, 600, np.nan],\n",
    "])"
   ]
  },
  {
   "cell_type": "code",
   "execution_count": 18,
   "metadata": {},
   "outputs": [],
   "source": [
    "def fill_nan(arr, stats_func):\n",
    "    \"\"\"\n",
    "        Applies a statistical function to 1D array &\n",
    "        replace nan values in array with that statistics\n",
    "    \"\"\"\n",
    "    stat = stats_func(arr)\n",
    "    arr[np.isnan(arr)] = stat\n",
    "    return arr"
   ]
  },
  {
   "cell_type": "code",
   "execution_count": 19,
   "metadata": {},
   "outputs": [
    {
     "data": {
      "text/plain": [
       "array([[ 10.        , 200.        ,  50.        ],\n",
       "       [ 23.33333333, 400.        ,  60.        ],\n",
       "       [ 20.        , 400.        ,  50.        ],\n",
       "       [ 40.        , 600.        ,  53.33333333]])"
      ]
     },
     "execution_count": 19,
     "metadata": {},
     "output_type": "execute_result"
    }
   ],
   "source": [
    "from functools import partial\n",
    "np.apply_along_axis(partial(fill_nan, stats_func=np.nanmean), axis=0, arr=data)"
   ]
  },
  {
   "cell_type": "markdown",
   "metadata": {},
   "source": [
    "As you can see, the average of each column values is computed and are replacing nan values in original data"
   ]
  },
  {
   "cell_type": "code",
   "execution_count": 20,
   "metadata": {},
   "outputs": [
    {
     "data": {
      "text/plain": [
       "array([11.,  8., 14.])"
      ]
     },
     "execution_count": 20,
     "metadata": {},
     "output_type": "execute_result"
    }
   ],
   "source": [
    "\"\"\"\n",
    "Example 3 (Wrong Use Case). \n",
    "Suppose you did the following to the Example 1 problem. \n",
    "The results isn't what we are looking for.\n",
    "\"\"\"\n",
    "np.apply_along_axis(func1d=max_min_diff, axis=1, arr=data1)"
   ]
  },
  {
   "cell_type": "code",
   "execution_count": 21,
   "metadata": {},
   "outputs": [
    {
     "data": {
      "text/plain": [
       "array([[ 9., 14.,  3.,  4.],\n",
       "       [ 6., 12.,  4.,  9.],\n",
       "       [ 1.,  0., 13., 14.]])"
      ]
     },
     "execution_count": 21,
     "metadata": {},
     "output_type": "execute_result"
    }
   ],
   "source": [
    "data1"
   ]
  },
  {
   "cell_type": "markdown",
   "metadata": {},
   "source": [
    "Above is a logical error. When you set axis as 1, it will slice array as data1[0, :] for the first time and call the function max_min_diff, and so on. Thus, the first value you see in output is 11 (14-3). Be mindful of how you want to slice the array and apply the function to match your expectation."
   ]
  },
  {
   "cell_type": "markdown",
   "metadata": {},
   "source": [
    "Consider apply_along_axis when you want you apply the same operation, i.e. function, along certain axis."
   ]
  },
  {
   "cell_type": "code",
   "execution_count": 22,
   "metadata": {},
   "outputs": [
    {
     "data": {
      "application/javascript": [
       "window.require && require([\"base/js/namespace\"],function(Jupyter){Jupyter.notebook.save_checkpoint()})"
      ],
      "text/plain": [
       "<IPython.core.display.Javascript object>"
      ]
     },
     "metadata": {},
     "output_type": "display_data"
    },
    {
     "name": "stdout",
     "output_type": "stream",
     "text": [
      "[jovian] Updating notebook \"kyawhtetwin/numpy-array-operations\" on https://jovian.ai\u001b[0m\n",
      "[jovian] Committed successfully! https://jovian.ai/kyawhtetwin/numpy-array-operations\u001b[0m\n"
     ]
    },
    {
     "data": {
      "text/plain": [
       "'https://jovian.ai/kyawhtetwin/numpy-array-operations'"
      ]
     },
     "execution_count": 22,
     "metadata": {},
     "output_type": "execute_result"
    }
   ],
   "source": [
    "jovian.commit()"
   ]
  },
  {
   "cell_type": "markdown",
   "metadata": {},
   "source": [
    "## Function 3 - tile\n",
    "\n",
    "Let's say you want to replicate certain elements in your array A a number of times. In that case, you can use tile() to achieve that which takes the following parameters:\n",
    "* A: the original array\n",
    "* reps: The number of repetitions of A along each axis. Can be integer or iterable"
   ]
  },
  {
   "cell_type": "code",
   "execution_count": 23,
   "metadata": {},
   "outputs": [
    {
     "name": "stdout",
     "output_type": "stream",
     "text": [
      "[[1 2 3 4 1 2 3 4]\n",
      " [1 2 3 4 1 2 3 4]\n",
      " [1 2 3 4 1 2 3 4]]\n"
     ]
    }
   ],
   "source": [
    "\"\"\"\n",
    "Example 1: Using tile on 1D array\n",
    "\"\"\"\n",
    "arr3 = np.array([1, 2, 3, 4])\n",
    "rep_arr3 = np.tile(arr3, reps=(3, 2))\n",
    "print(rep_arr3)"
   ]
  },
  {
   "cell_type": "code",
   "execution_count": 24,
   "metadata": {},
   "outputs": [
    {
     "data": {
      "text/plain": [
       "(4,)"
      ]
     },
     "execution_count": 24,
     "metadata": {},
     "output_type": "execute_result"
    }
   ],
   "source": [
    "arr3.shape"
   ]
  },
  {
   "cell_type": "code",
   "execution_count": 25,
   "metadata": {},
   "outputs": [
    {
     "name": "stdout",
     "output_type": "stream",
     "text": [
      "(3, 8)\n"
     ]
    }
   ],
   "source": [
    "print(rep_arr3.shape)"
   ]
  },
  {
   "cell_type": "markdown",
   "metadata": {},
   "source": [
    "I start with an array with 4 elements. I have specified reps as tuple (3, 2). Since I want to see these 4 elements replicated 3 times along axis 0, I have an array that kind of looks like this:<br>\n",
    "    \n",
    "    [[1 2 3 4]\n",
    "     [1 2 3 4]\n",
    "     [1 2 3 4]]\n",
    "Then, I also want to replicate this resulting array 2 times along axis 1. Thus, I ended up with the array you see in above run. "
   ]
  },
  {
   "cell_type": "code",
   "execution_count": 27,
   "metadata": {},
   "outputs": [
    {
     "name": "stdout",
     "output_type": "stream",
     "text": [
      "Array 1\n",
      "[[1]\n",
      " [2]]\n",
      "Replicated Array 2\n",
      "[[2 4 6]\n",
      " [2 4 6]]\n",
      "Resulting array:\n",
      " [[ 2  4  6]\n",
      " [ 4  8 12]]\n"
     ]
    }
   ],
   "source": [
    "\"\"\"\n",
    "Example 2: \n",
    "Suppose you have two arrays: \n",
    "arr1 = [1, 2] \n",
    "arr2 = [2, 4, 6]\n",
    "You want to create the resulting array as follows:\n",
    "    Multiply each element in arr1 with each element in arr2\n",
    "    (i.e 1 multiplies to 2, 4, 6, then 2 multiplies to 2, 4, 6)\n",
    "\"\"\"\n",
    "array1 = np.array([1, 2])\n",
    "array2 = np.array([2, 4, 6])\n",
    "array3 = np.tile(array2, reps=(array1.size, 1))\n",
    "print(f\"Array 1\\n{array1[:, np.newaxis]}\")\n",
    "print(f\"Replicated Array 2\\n{array3}\")\n",
    "print(\"Resulting array:\\n\",array1[:, np.newaxis]*array3)"
   ]
  },
  {
   "cell_type": "markdown",
   "metadata": {},
   "source": [
    "Instead of using two loops to accomplish this in Python, we can use tile() method to replicate elements in array a certain amount of time and perform operations that we want. \n",
    "\n",
    "In above example, since I want to multiply all the elements in array 2 with each element in array 1 I have replicated elements in array 2 with the number of elements in array 1. Then, I can just simply multiply them while Numpy does broadcasting for me as well. "
   ]
  },
  {
   "cell_type": "code",
   "execution_count": 28,
   "metadata": {},
   "outputs": [
    {
     "data": {
      "text/plain": [
       "array([], dtype=int64)"
      ]
     },
     "execution_count": 28,
     "metadata": {},
     "output_type": "execute_result"
    }
   ],
   "source": [
    "# Example 3 - breaking (to illustrate when it breaks)\n",
    "np.tile(array2, reps=(0))"
   ]
  },
  {
   "cell_type": "markdown",
   "metadata": {},
   "source": [
    "Non-sensible to repeat it 0 times"
   ]
  },
  {
   "cell_type": "markdown",
   "metadata": {},
   "source": [
    "Consider tile functions to repeat elements in Numpy array so that you don't have to rely on for loops!"
   ]
  },
  {
   "cell_type": "code",
   "execution_count": 29,
   "metadata": {},
   "outputs": [
    {
     "data": {
      "application/javascript": [
       "window.require && require([\"base/js/namespace\"],function(Jupyter){Jupyter.notebook.save_checkpoint()})"
      ],
      "text/plain": [
       "<IPython.core.display.Javascript object>"
      ]
     },
     "metadata": {},
     "output_type": "display_data"
    },
    {
     "name": "stdout",
     "output_type": "stream",
     "text": [
      "[jovian] Updating notebook \"kyawhtetwin/numpy-array-operations\" on https://jovian.ai\u001b[0m\n",
      "[jovian] Committed successfully! https://jovian.ai/kyawhtetwin/numpy-array-operations\u001b[0m\n"
     ]
    },
    {
     "data": {
      "text/plain": [
       "'https://jovian.ai/kyawhtetwin/numpy-array-operations'"
      ]
     },
     "execution_count": 29,
     "metadata": {},
     "output_type": "execute_result"
    }
   ],
   "source": [
    "jovian.commit()"
   ]
  },
  {
   "cell_type": "markdown",
   "metadata": {},
   "source": [
    "## Function 4 - meshgrid\n",
    "\n",
    "Can we do something similar to Example 2 under function tile() using another function? What about meshgrid? Let's see what it does!"
   ]
  },
  {
   "cell_type": "code",
   "execution_count": 30,
   "metadata": {},
   "outputs": [
    {
     "name": "stdout",
     "output_type": "stream",
     "text": [
      "Array 1:\n",
      "[[1 2]\n",
      " [1 2]\n",
      " [1 2]]\n",
      "Array 2:\n",
      "[[2 2]\n",
      " [4 4]\n",
      " [6 6]]\n"
     ]
    }
   ],
   "source": [
    "\"\"\"\n",
    "    Example 1:\n",
    "    Same problem \n",
    "    arr1 = [1, 2]\n",
    "    arr2 = [2, 4, 6]\n",
    "\"\"\"\n",
    "a1 = np.array([1, 2])\n",
    "a2 = np.array([2, 4, 6])\n",
    "a1_g, a2_g = np.meshgrid(a1, a2)\n",
    "print(f\"Array 1:\\n{a1_g}\")\n",
    "print(f\"Array 2:\\n{a2_g}\")"
   ]
  },
  {
   "cell_type": "code",
   "execution_count": 31,
   "metadata": {},
   "outputs": [
    {
     "name": "stdout",
     "output_type": "stream",
     "text": [
      "Resulting array:\n",
      "[[ 2  4]\n",
      " [ 4  8]\n",
      " [ 6 12]]\n"
     ]
    }
   ],
   "source": [
    "print(f\"Resulting array:\\n{a1_g*a2_g}\")"
   ]
  },
  {
   "cell_type": "markdown",
   "metadata": {},
   "source": [
    "Just as earlier, we have multiplied each element in array 1 to array 2. This time, we did so using meshgrid to essentially create a \"grid\" of values. You can see a pair of values for every values in array 1 with every values in array 2 (Kind of like creating xy coordinates pair)."
   ]
  },
  {
   "cell_type": "code",
   "execution_count": 32,
   "metadata": {},
   "outputs": [
    {
     "name": "stdout",
     "output_type": "stream",
     "text": [
      "[[0 2 4]\n",
      " [0 2 4]\n",
      " [0 2 4]]\n",
      "[[1 1 1]\n",
      " [3 3 3]\n",
      " [5 5 5]]\n"
     ]
    }
   ],
   "source": [
    "\"\"\"\n",
    "    Example 2:\n",
    "    Using meshgrid to index into multi-dimensional arays.\n",
    "    In the following array:\n",
    "        Change odd row numbers into 4.\n",
    "        Change even col numbers into -5 \n",
    "\"\"\"\n",
    "arr4 = np.zeros(shape=(6, 6))\n",
    "rows, columns = np.meshgrid(np.arange(0, 5, 2), np.arange(1, 6, 2))\n",
    "print(rows)\n",
    "print(columns)"
   ]
  },
  {
   "cell_type": "code",
   "execution_count": 33,
   "metadata": {},
   "outputs": [],
   "source": [
    "arr4[rows] = 4.\n",
    "arr4[:, columns] = -5."
   ]
  },
  {
   "cell_type": "code",
   "execution_count": 34,
   "metadata": {},
   "outputs": [
    {
     "data": {
      "text/plain": [
       "array([[ 4., -5.,  4., -5.,  4., -5.],\n",
       "       [ 0., -5.,  0., -5.,  0., -5.],\n",
       "       [ 4., -5.,  4., -5.,  4., -5.],\n",
       "       [ 0., -5.,  0., -5.,  0., -5.],\n",
       "       [ 4., -5.,  4., -5.,  4., -5.],\n",
       "       [ 0., -5.,  0., -5.,  0., -5.]])"
      ]
     },
     "execution_count": 34,
     "metadata": {},
     "output_type": "execute_result"
    }
   ],
   "source": [
    "arr4"
   ]
  },
  {
   "cell_type": "markdown",
   "metadata": {},
   "source": [
    "This example demonstrates how we might use meshgrid to index into multi-dimensional arrays"
   ]
  },
  {
   "cell_type": "code",
   "execution_count": 35,
   "metadata": {},
   "outputs": [
    {
     "ename": "ValueError",
     "evalue": "too many values to unpack (expected 2)",
     "output_type": "error",
     "traceback": [
      "\u001b[0;31m---------------------------------------------------------------------------\u001b[0m",
      "\u001b[0;31mValueError\u001b[0m                                Traceback (most recent call last)",
      "\u001b[0;32m/tmp/ipykernel_641/235994070.py\u001b[0m in \u001b[0;36m<module>\u001b[0;34m\u001b[0m\n\u001b[1;32m      3\u001b[0m     \u001b[0mIncorrect\u001b[0m \u001b[0mUse\u001b[0m\u001b[0;34m\u001b[0m\u001b[0;34m\u001b[0m\u001b[0m\n\u001b[1;32m      4\u001b[0m \"\"\"\n\u001b[0;32m----> 5\u001b[0;31m \u001b[0mx\u001b[0m\u001b[0;34m,\u001b[0m \u001b[0my\u001b[0m \u001b[0;34m=\u001b[0m \u001b[0mnp\u001b[0m\u001b[0;34m.\u001b[0m\u001b[0mmeshgrid\u001b[0m\u001b[0;34m(\u001b[0m\u001b[0;34m[\u001b[0m\u001b[0;36m1\u001b[0m\u001b[0;34m,\u001b[0m \u001b[0;36m2\u001b[0m\u001b[0;34m,\u001b[0m \u001b[0;36m3\u001b[0m\u001b[0;34m]\u001b[0m\u001b[0;34m,\u001b[0m \u001b[0;34m[\u001b[0m\u001b[0;36m4\u001b[0m\u001b[0;34m,\u001b[0m \u001b[0;36m5\u001b[0m\u001b[0;34m,\u001b[0m \u001b[0;36m6\u001b[0m\u001b[0;34m]\u001b[0m\u001b[0;34m,\u001b[0m \u001b[0;34m[\u001b[0m\u001b[0;36m7\u001b[0m\u001b[0;34m,\u001b[0m \u001b[0;36m8\u001b[0m\u001b[0;34m,\u001b[0m \u001b[0;36m9\u001b[0m\u001b[0;34m]\u001b[0m\u001b[0;34m)\u001b[0m\u001b[0;34m\u001b[0m\u001b[0;34m\u001b[0m\u001b[0m\n\u001b[0m",
      "\u001b[0;31mValueError\u001b[0m: too many values to unpack (expected 2)"
     ]
    }
   ],
   "source": [
    "\"\"\"\n",
    "    Example 3:\n",
    "    Incorrect Use\n",
    "\"\"\"\n",
    "x, y = np.meshgrid([1, 2, 3], [4, 5, 6], [7, 8, 9])"
   ]
  },
  {
   "cell_type": "markdown",
   "metadata": {},
   "source": [
    "We can extend the usage in Example 2, and pass in arbitary number of iterables as first argument. However, as seen in Example 3, if we are passing 3 iterables, we must unpack 3 values upon function return call. To fix the error above, we can do <br>\n",
    "```x, y, z = np.meshgrid([1, 2, 3], [4, 5, 6], [7, 8, 9])```"
   ]
  },
  {
   "cell_type": "markdown",
   "metadata": {},
   "source": [
    "Remember meshgrid too when you don't want to loop!"
   ]
  },
  {
   "cell_type": "code",
   "execution_count": 36,
   "metadata": {},
   "outputs": [
    {
     "data": {
      "application/javascript": [
       "window.require && require([\"base/js/namespace\"],function(Jupyter){Jupyter.notebook.save_checkpoint()})"
      ],
      "text/plain": [
       "<IPython.core.display.Javascript object>"
      ]
     },
     "metadata": {},
     "output_type": "display_data"
    },
    {
     "name": "stdout",
     "output_type": "stream",
     "text": [
      "[jovian] Updating notebook \"kyawhtetwin/numpy-array-operations\" on https://jovian.ai\u001b[0m\n",
      "[jovian] Committed successfully! https://jovian.ai/kyawhtetwin/numpy-array-operations\u001b[0m\n"
     ]
    },
    {
     "data": {
      "text/plain": [
       "'https://jovian.ai/kyawhtetwin/numpy-array-operations'"
      ]
     },
     "execution_count": 36,
     "metadata": {},
     "output_type": "execute_result"
    }
   ],
   "source": [
    "jovian.commit()"
   ]
  },
  {
   "cell_type": "markdown",
   "metadata": {},
   "source": [
    "## Function 5 - Extract\n",
    "\n",
    "Finally, let's search our Numpy array for elements based on some condition using extract"
   ]
  },
  {
   "cell_type": "code",
   "execution_count": 37,
   "metadata": {},
   "outputs": [
    {
     "name": "stdout",
     "output_type": "stream",
     "text": [
      "[-1. -7. -1.]\n"
     ]
    }
   ],
   "source": [
    "\"\"\"\n",
    "    Example 1: Find all the negative elements in array\n",
    "\"\"\"\n",
    "arr5 = np.array([\n",
    "    [0, 2., -1, 4],\n",
    "    [-7, 8, 1, -1],\n",
    "    [2, 3, 9, 1],\n",
    "])\n",
    "print(np.extract(condition=arr5<0, arr=arr5))"
   ]
  },
  {
   "cell_type": "markdown",
   "metadata": {},
   "source": [
    "As expected, we found elements in arr5 that are negative"
   ]
  },
  {
   "cell_type": "code",
   "execution_count": 38,
   "metadata": {},
   "outputs": [
    {
     "name": "stdout",
     "output_type": "stream",
     "text": [
      "[0. 2. 4. 8. 2.]\n"
     ]
    }
   ],
   "source": [
    "\"\"\"\n",
    "    Example 2: Find all the even numbers in array\n",
    "\"\"\"\n",
    "print(np.extract(arr5%2==0, arr5))"
   ]
  },
  {
   "cell_type": "markdown",
   "metadata": {},
   "source": [
    "As expected, we found all even numbers in arr5. Notice that all elements are returned as 1D array"
   ]
  },
  {
   "cell_type": "code",
   "execution_count": 39,
   "metadata": {},
   "outputs": [
    {
     "name": "stdout",
     "output_type": "stream",
     "text": [
      "[]\n"
     ]
    },
    {
     "name": "stderr",
     "output_type": "stream",
     "text": [
      "/tmp/ipykernel_641/4034343613.py:5: DeprecationWarning: elementwise comparison failed; this will raise an error in the future.\n",
      "  print(np.extract(arr5==[2, 4], arr5))\n"
     ]
    }
   ],
   "source": [
    "\"\"\"\n",
    "    Example 3: Incorrect Use\n",
    "    What if we want to see if our arr5 contains values [2, 4]?\n",
    "\"\"\"\n",
    "print(np.extract(arr5==[2, 4], arr5))"
   ]
  },
  {
   "cell_type": "markdown",
   "metadata": {},
   "source": [
    "As seen in warning message, Numpy does know how to compare two arrays with different shapes: arr5 has (3, 4) whereas [2, 4] has shape (1,).\n",
    "The correct way to check would be as follow(Try this):<br>\n",
    "```np.extract(np.isin(arr5, [2, 4]), arr5)```"
   ]
  },
  {
   "cell_type": "markdown",
   "metadata": {},
   "source": [
    "Some closing comments about when to use this function."
   ]
  },
  {
   "cell_type": "code",
   "execution_count": 41,
   "metadata": {},
   "outputs": [
    {
     "data": {
      "application/javascript": [
       "window.require && require([\"base/js/namespace\"],function(Jupyter){Jupyter.notebook.save_checkpoint()})"
      ],
      "text/plain": [
       "<IPython.core.display.Javascript object>"
      ]
     },
     "metadata": {},
     "output_type": "display_data"
    },
    {
     "name": "stdout",
     "output_type": "stream",
     "text": [
      "[jovian] Updating notebook \"kyawhtetwin/numpy-array-operations\" on https://jovian.ai\u001b[0m\n",
      "[jovian] Committed successfully! https://jovian.ai/kyawhtetwin/numpy-array-operations\u001b[0m\n"
     ]
    },
    {
     "data": {
      "text/plain": [
       "'https://jovian.ai/kyawhtetwin/numpy-array-operations'"
      ]
     },
     "execution_count": 41,
     "metadata": {},
     "output_type": "execute_result"
    }
   ],
   "source": [
    "jovian.commit()"
   ]
  },
  {
   "cell_type": "markdown",
   "metadata": {},
   "source": [
    "## Conclusion\n",
    "\n",
    "In this notebook, we covered 5 useful functions for your everyday use. We saw sorting & searching for elements in Numpy arrays. We also saw how to apply a function along some axis in Numpy array. In addition, we saw two approaches to get rid of looping using tile & meshgrid. \n",
    "\n",
    "There are other functions to do similar things that we did. Make sure to check them out in the documentation or other sources."
   ]
  },
  {
   "cell_type": "markdown",
   "metadata": {},
   "source": [
    "## Reference Links\n",
    "* Numpy official tutorial : https://numpy.org/doc/stable/user/quickstart.html\n"
   ]
  }
 ],
 "metadata": {
  "language_info": {
   "codemirror_mode": {
    "name": "ipython",
    "version": 3
   },
   "file_extension": ".py",
   "mimetype": "text/x-python",
   "name": "python",
   "nbconvert_exporter": "python",
   "pygments_lexer": "ipython3",
   "version": "3.9.7"
  }
 },
 "nbformat": 4,
 "nbformat_minor": 4
}