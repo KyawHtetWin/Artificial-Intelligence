{
 "cells": [
  {
   "cell_type": "markdown",
   "metadata": {},
   "source": [
    "# H-1B Visa Program Analysis\n",
    "\n",
    "According to USCIS's offficial site, the H-1B program enables employers in the United States to employ foreign employees in speciality occupations that often required some specialized knowledge or training.   \n",
    "\n",
    "Many foreign employees, including international students who have been studying in the State, often try their luck in this competitive program to work and live in the State. \n",
    "\n",
    "In this notebook, I will do two-part analysis using open-source data from USCIS's website to learn more about H-1B Visa Program in general & explore the data from most recent year to gain insights on the chances that H-1B Visa Program offers to a recent Computer Science graduate in Los Angeles."
   ]
  },
  {
   "cell_type": "markdown",
   "metadata": {
    "heading_collapsed": true
   },
   "source": [
    "### How to run the code\n",
    "\n",
    "This is an executable Juputer notebook hosted on [Jovian.ml](https://jovian.ai/kyawhtetwin/h1b-visa-petitions), a platform for sharing data science projects. You can run and experiment with the code in a couple of ways: *using free online resources* (recommended) or *on your own computer*.\n",
    "\n",
    "#### Option 1: Running using free online resources (1-click, recommended)\n",
    "\n",
    "The easiest way to start executing this notebook is to click the \"Run\" button at the top of this page, and select \"Run on Binder\". This will run the notebook on [mybinder.org](https://mybinder.org), a free online service for running Jupyter notebooks. You can also select \"Run on Colab\" or \"Run on Kaggle\".\n",
    "\n",
    "\n",
    "#### Option 2: Running on your computer locally\n",
    "\n",
    "1. Install Conda by [following these instructions](https://conda.io/projects/conda/en/latest/user-guide/install/index.html). Add Conda binaries to your system `PATH`, so you can use the `conda` command on your terminal.\n",
    "\n",
    "2. Create a Conda environment and install the required libraries by running these commands on the terminal:\n",
    "\n",
    "```\n",
    "conda create -n zerotopandas -y python=3.8 \n",
    "conda activate zerotopandas\n",
    "pip install jovian jupyter numpy pandas matplotlib seaborn opendatasets --upgrade\n",
    "```\n",
    "\n",
    "3. Press the \"Clone\" button above to copy the command for downloading the notebook, and run it on the terminal. This will create a new directory and download the notebook. The command will look something like this:\n",
    "\n",
    "```\n",
    "jovian clone notebook-owner/notebook-id\n",
    "```\n",
    "\n",
    "\n",
    "\n",
    "4. Enter the newly created directory using `cd directory-name` and start the Jupyter notebook.\n",
    "\n",
    "```\n",
    "jupyter notebook\n",
    "```\n",
    "\n",
    "You can now access Jupyter's web interface by clicking the link that shows up on the terminal or by visiting http://localhost:8888 on your browser. Click on the notebook file (it has a `.ipynb` extension) to open it.\n"
   ]
  },
  {
   "cell_type": "markdown",
   "metadata": {},
   "source": [
    "## 1. Downloading & Preparing the Original Dataset\n",
    "\n",
    "We will learn about H-1B program for the past decade (2012-2022) using the open-source dataset available on USCIS's website that can be found [here.](https://www.uscis.gov/tools/reports-and-studies/h-1b-employer-data-hub/h-1b-employer-data-hub-files)\n",
    "\n",
    "The data is available in CSV file format for each year. It contains 11 columns and here is what they mean:\n",
    "1. **Fiscal Year**: The fiscal year ranges from Oct 1 of one year to Sept 30 of next year in US.\n",
    "2. **Employer Name**: Name of the employer. An employer with multiple addresses can appear on many rows. \n",
    "3. **Initial Approval(IA)**: Number of H-1B petitions that are approved for new employment or new concurrent employment (i.e. filing for H-1B petitions via second employer while already having a valid H-1B status). \n",
    "4. **Initial Denial(ID)**: Number of H-1B petitions that are denied for new employment or new concurrent employment.\n",
    "5. **Continuing Approval(CA)**: Number of H-1B petitions that are approved other than new employment/new concurrent employment. For example, when changing an employer. Refer to official website for other scenarios.\n",
    "6. **Continuing Denial(CD)**: Number of H-1B petitions that are denied other than new employment/new concurrent employment. For example, when changing an employer. Refer to official website for other scenarios. \n",
    "7. **NAICS**: North American Industry Classification System Code. The standard two-digit code in North America used to classify the industry to which a business belongs. \n",
    "8. **Tax ID**: Last four digit of employer's Tax ID\n",
    "9. **State**: The state in which employer resides. \n",
    "10. **City**: The city in which employer resides.\n",
    "11. **Zip**: The zip code in which employer resides."
   ]
  },
  {
   "cell_type": "markdown",
   "metadata": {},
   "source": [
    "> Downloading the dataset\n",
    "> - I will retrieve the links to csv files from the site and download it using the [`opendatasets` Python library](https://github.com/JovianML/opendatasets#opendatasets)"
   ]
  },
  {
   "cell_type": "markdown",
   "metadata": {},
   "source": [
    "Since the two-digit NAICS code isn't quite infromative, first let's figure out which industries they represent. Find out more about NAICS [here](https://www.census.gov/naics/?58967?yearbck=2022)"
   ]
  },
  {
   "cell_type": "code",
   "execution_count": 1,
   "metadata": {},
   "outputs": [],
   "source": [
    "NAICS_CODE_2022 = {\n",
    "    11: \"Agriculture, Forestry, Fishing, and Hunting\",\n",
    "    21: \"Mining, Quarrying, and Oil and Gas Extraction\",\n",
    "    22: \"Utilities\",  23: \"Construction\",\n",
    "    31: \"Manufacturing\", 32: \"Manufacturing\", 33: \"Manufacturing\",\n",
    "    42: \"Wholesale Trade\", \n",
    "    44: \"Retail Trade\", 45: \"Retail Trade\",\n",
    "    48: \"Transportation and Warehousing\", 49: \"Transportation and Warehousing\",\n",
    "    51: \"Information\", 52: \"Finance and Insurance\",\n",
    "    53: \"Real Estate and Rental and Leasing\", \n",
    "    54: \"Professional, Scientific, and Technical Services\", \n",
    "    55: \"Management of Companies and Enterprises\",\n",
    "    56: \"Administrative and Support and Waste Management and Remediation Services\", \n",
    "    61: \"Educational Services\", 62: \"Health Care and Social Assistance\", \n",
    "    71: \"Arts, Entertainment, and Recreation\", 72: \"Accommodation and Food Services\",\n",
    "    81: \"Other Services (except PA)\", 92: \"Public Administration(PA)\",\n",
    "    99: \"Unknown\"\n",
    "}"
   ]
  },
  {
   "cell_type": "code",
   "execution_count": 2,
   "metadata": {},
   "outputs": [],
   "source": [
    "!pip install jovian opendatasets --upgrade --quiet"
   ]
  },
  {
   "cell_type": "markdown",
   "metadata": {},
   "source": [
    "Let's begin by downloading the data, and listing the files within the dataset."
   ]
  },
  {
   "cell_type": "code",
   "execution_count": 3,
   "metadata": {},
   "outputs": [],
   "source": [
    "dataset_urls = ['https://www.uscis.gov/sites/default/files/document/data/h1b_datahubexport-2022.csv',\n",
    "                'https://www.uscis.gov/sites/default/files/document/data/h1b_datahubexport-2021.csv',\n",
    "                'https://www.uscis.gov/sites/default/files/document/data/h1b_datahubexport-2020.csv', \n",
    "                'https://www.uscis.gov/sites/default/files/document/data/h1b_datahubexport-2019.csv', \n",
    "                'https://www.uscis.gov/sites/default/files/document/data/h1b_datahubexport-2018.csv',\n",
    "                'https://www.uscis.gov/sites/default/files/document/data/h1b_datahubexport-2017.csv',\n",
    "                'https://www.uscis.gov/sites/default/files/document/data/h1b_datahubexport-2016.csv',\n",
    "                'https://www.uscis.gov/sites/default/files/document/data/h1b_datahubexport-2015.csv',\n",
    "                'https://www.uscis.gov/sites/default/files/document/data/h1b_datahubexport-2014.csv',\n",
    "                'https://www.uscis.gov/sites/default/files/document/data/h1b_datahubexport-2013.csv',\n",
    "                'https://www.uscis.gov/sites/default/files/document/data/h1b_datahubexport-2012.csv']"
   ]
  },
  {
   "cell_type": "code",
   "execution_count": 4,
   "metadata": {},
   "outputs": [
    {
     "name": "stdout",
     "output_type": "stream",
     "text": [
      "Using downloaded and verified file: ./h1b_datahubexport-2022.csv\n",
      "Using downloaded and verified file: ./h1b_datahubexport-2021.csv\n",
      "Using downloaded and verified file: ./h1b_datahubexport-2020.csv\n",
      "Using downloaded and verified file: ./h1b_datahubexport-2019.csv\n",
      "Using downloaded and verified file: ./h1b_datahubexport-2018.csv\n",
      "Using downloaded and verified file: ./h1b_datahubexport-2017.csv\n",
      "Using downloaded and verified file: ./h1b_datahubexport-2016.csv\n",
      "Using downloaded and verified file: ./h1b_datahubexport-2015.csv\n",
      "Using downloaded and verified file: ./h1b_datahubexport-2014.csv\n",
      "Using downloaded and verified file: ./h1b_datahubexport-2013.csv\n",
      "Using downloaded and verified file: ./h1b_datahubexport-2012.csv\n"
     ]
    }
   ],
   "source": [
    "import opendatasets as od\n",
    "for dataset_url in dataset_urls:\n",
    "    od.download(dataset_url)"
   ]
  },
  {
   "cell_type": "markdown",
   "metadata": {},
   "source": [
    "The dataset has been downloaded and extracted."
   ]
  },
  {
   "cell_type": "code",
   "execution_count": 6,
   "metadata": {},
   "outputs": [],
   "source": [
    "import pandas as pd\n",
    "from pandas.api.types import is_numeric_dtype\n",
    "import numpy as np"
   ]
  },
  {
   "cell_type": "code",
   "execution_count": 7,
   "metadata": {},
   "outputs": [],
   "source": [
    "# In some years, the column names are slightly different. So, let me standardized it with my own column names\n",
    "files = ['h1b_datahubexport-2022.csv', 'h1b_datahubexport-2021.csv', 'h1b_datahubexport-2020.csv',\n",
    "         'h1b_datahubexport-2019.csv', 'h1b_datahubexport-2018.csv', 'h1b_datahubexport-2017.csv',\n",
    "         'h1b_datahubexport-2016.csv', 'h1b_datahubexport-2015.csv', 'h1b_datahubexport-2014.csv',\n",
    "         'h1b_datahubexport-2013.csv', 'h1b_datahubexport-2012.csv'\n",
    "        ]\n",
    "column_names = [\"Fiscal Year\",\"Employer\",\"IA\",\"ID\",\"CA\",\"CD\",\"NAICS\",\"Tax ID\",\"State\",\"City\",\"ZIP\"]\n",
    "for file in files:\n",
    "    df = pd.read_csv(file)\n",
    "    df.columns = column_names\n",
    "    # Sometimes, numeric columns like IA, ID, CA, CD doens't have numeric type because of comma. To prevent that:\n",
    "    colnames = ['IA', 'ID', 'CA', 'CD']\n",
    "    for col_name in colnames:\n",
    "        if not is_numeric_dtype(df[col_name]):\n",
    "            df[col_name]= df[col_name].apply(lambda x: x.replace(\",\", \"\")).astype(int)\n",
    "    df.to_csv(file, index=False)"
   ]
  },
  {
   "cell_type": "markdown",
   "metadata": {},
   "source": [
    "Let us save and upload our work to Jovian before continuing."
   ]
  },
  {
   "cell_type": "code",
   "execution_count": 8,
   "metadata": {},
   "outputs": [],
   "source": [
    "project_name = \"h1b_visa_petitions\" "
   ]
  },
  {
   "cell_type": "code",
   "execution_count": 9,
   "metadata": {},
   "outputs": [],
   "source": [
    "import jovian"
   ]
  },
  {
   "cell_type": "code",
   "execution_count": 10,
   "metadata": {},
   "outputs": [
    {
     "data": {
      "application/javascript": [
       "window.require && require([\"base/js/namespace\"],function(Jupyter){Jupyter.notebook.save_checkpoint()})"
      ],
      "text/plain": [
       "<IPython.core.display.Javascript object>"
      ]
     },
     "metadata": {},
     "output_type": "display_data"
    },
    {
     "name": "stdout",
     "output_type": "stream",
     "text": [
      "[jovian] Updating notebook \"kyawhtetwin/h1b-visa-petitions\" on https://jovian.ai\u001b[0m\n",
      "[jovian] Committed successfully! https://jovian.ai/kyawhtetwin/h1b-visa-petitions\u001b[0m\n"
     ]
    },
    {
     "data": {
      "text/plain": [
       "'https://jovian.ai/kyawhtetwin/h1b-visa-petitions'"
      ]
     },
     "execution_count": 10,
     "metadata": {},
     "output_type": "execute_result"
    }
   ],
   "source": [
    "jovian.commit(project=project_name)"
   ]
  },
  {
   "cell_type": "markdown",
   "metadata": {},
   "source": [
    "## 2. Data Preparation and Cleaning\n",
    "\n",
    "Now that we have downloaded data into our current directory, let's look at the data from a year to see what pre-processing steps we need to take before combining data from all the years into one table (DataFrame).\n",
    "\n"
   ]
  },
  {
   "cell_type": "code",
   "execution_count": 11,
   "metadata": {},
   "outputs": [
    {
     "data": {
      "text/html": [
       "<div>\n",
       "<style scoped>\n",
       "    .dataframe tbody tr th:only-of-type {\n",
       "        vertical-align: middle;\n",
       "    }\n",
       "\n",
       "    .dataframe tbody tr th {\n",
       "        vertical-align: top;\n",
       "    }\n",
       "\n",
       "    .dataframe thead th {\n",
       "        text-align: right;\n",
       "    }\n",
       "</style>\n",
       "<table border=\"1\" class=\"dataframe\">\n",
       "  <thead>\n",
       "    <tr style=\"text-align: right;\">\n",
       "      <th></th>\n",
       "      <th>Fiscal Year</th>\n",
       "      <th>Employer</th>\n",
       "      <th>IA</th>\n",
       "      <th>ID</th>\n",
       "      <th>CA</th>\n",
       "      <th>CD</th>\n",
       "      <th>NAICS</th>\n",
       "      <th>Tax ID</th>\n",
       "      <th>State</th>\n",
       "      <th>City</th>\n",
       "      <th>ZIP</th>\n",
       "    </tr>\n",
       "  </thead>\n",
       "  <tbody>\n",
       "    <tr>\n",
       "      <th>15073</th>\n",
       "      <td>2022</td>\n",
       "      <td>FINPLICITY INC</td>\n",
       "      <td>0</td>\n",
       "      <td>0</td>\n",
       "      <td>1</td>\n",
       "      <td>0</td>\n",
       "      <td>54</td>\n",
       "      <td>216.0</td>\n",
       "      <td>PA</td>\n",
       "      <td>PHILADELPHIA</td>\n",
       "      <td>19146.0</td>\n",
       "    </tr>\n",
       "    <tr>\n",
       "      <th>4086</th>\n",
       "      <td>2022</td>\n",
       "      <td>ATRUTEC LLC</td>\n",
       "      <td>1</td>\n",
       "      <td>0</td>\n",
       "      <td>0</td>\n",
       "      <td>0</td>\n",
       "      <td>54</td>\n",
       "      <td>8873.0</td>\n",
       "      <td>TX</td>\n",
       "      <td>DALLAS</td>\n",
       "      <td>75287.0</td>\n",
       "    </tr>\n",
       "    <tr>\n",
       "      <th>33060</th>\n",
       "      <td>2022</td>\n",
       "      <td>RAMSONS INNOVATIONS</td>\n",
       "      <td>1</td>\n",
       "      <td>0</td>\n",
       "      <td>0</td>\n",
       "      <td>0</td>\n",
       "      <td>54</td>\n",
       "      <td>9430.0</td>\n",
       "      <td>TX</td>\n",
       "      <td>IRVING</td>\n",
       "      <td>75062.0</td>\n",
       "    </tr>\n",
       "    <tr>\n",
       "      <th>40024</th>\n",
       "      <td>2022</td>\n",
       "      <td>TEXAS BIOMEDICAL RESEARCH INSTITUTE</td>\n",
       "      <td>0</td>\n",
       "      <td>0</td>\n",
       "      <td>2</td>\n",
       "      <td>0</td>\n",
       "      <td>54</td>\n",
       "      <td>9630.0</td>\n",
       "      <td>TX</td>\n",
       "      <td>SAN ANTONIO</td>\n",
       "      <td>78227.0</td>\n",
       "    </tr>\n",
       "    <tr>\n",
       "      <th>39236</th>\n",
       "      <td>2022</td>\n",
       "      <td>TAPRESEARCH INC</td>\n",
       "      <td>0</td>\n",
       "      <td>0</td>\n",
       "      <td>1</td>\n",
       "      <td>0</td>\n",
       "      <td>54</td>\n",
       "      <td>6899.0</td>\n",
       "      <td>CA</td>\n",
       "      <td>MENLO PARK</td>\n",
       "      <td>94025.0</td>\n",
       "    </tr>\n",
       "  </tbody>\n",
       "</table>\n",
       "</div>"
      ],
      "text/plain": [
       "       Fiscal Year                             Employer  IA  ID  CA  CD  \\\n",
       "15073         2022                       FINPLICITY INC   0   0   1   0   \n",
       "4086          2022                          ATRUTEC LLC   1   0   0   0   \n",
       "33060         2022                  RAMSONS INNOVATIONS   1   0   0   0   \n",
       "40024         2022  TEXAS BIOMEDICAL RESEARCH INSTITUTE   0   0   2   0   \n",
       "39236         2022                      TAPRESEARCH INC   0   0   1   0   \n",
       "\n",
       "       NAICS  Tax ID State          City      ZIP  \n",
       "15073     54   216.0    PA  PHILADELPHIA  19146.0  \n",
       "4086      54  8873.0    TX        DALLAS  75287.0  \n",
       "33060     54  9430.0    TX        IRVING  75062.0  \n",
       "40024     54  9630.0    TX   SAN ANTONIO  78227.0  \n",
       "39236     54  6899.0    CA    MENLO PARK  94025.0  "
      ]
     },
     "execution_count": 11,
     "metadata": {},
     "output_type": "execute_result"
    }
   ],
   "source": [
    "# Read from one year & examine some rows\n",
    "h1b_22_df = pd.read_csv('h1b_datahubexport-2022.csv')\n",
    "h1b_22_df.sample(5)"
   ]
  },
  {
   "cell_type": "code",
   "execution_count": 12,
   "metadata": {},
   "outputs": [
    {
     "name": "stdout",
     "output_type": "stream",
     "text": [
      "<class 'pandas.core.frame.DataFrame'>\n",
      "RangeIndex: 46215 entries, 0 to 46214\n",
      "Data columns (total 11 columns):\n",
      " #   Column       Non-Null Count  Dtype  \n",
      "---  ------       --------------  -----  \n",
      " 0   Fiscal Year  46215 non-null  int64  \n",
      " 1   Employer     46211 non-null  object \n",
      " 2   IA           46215 non-null  int64  \n",
      " 3   ID           46215 non-null  int64  \n",
      " 4   CA           46215 non-null  int64  \n",
      " 5   CD           46215 non-null  int64  \n",
      " 6   NAICS        46215 non-null  int64  \n",
      " 7   Tax ID       46090 non-null  float64\n",
      " 8   State        46214 non-null  object \n",
      " 9   City         46214 non-null  object \n",
      " 10  ZIP          46210 non-null  float64\n",
      "dtypes: float64(2), int64(6), object(3)\n",
      "memory usage: 3.9+ MB\n"
     ]
    }
   ],
   "source": [
    "# Let's find out more about the columns\n",
    "h1b_22_df.info()"
   ]
  },
  {
   "cell_type": "markdown",
   "metadata": {},
   "source": [
    "We notice some columns with missing rows. These need to be handled."
   ]
  },
  {
   "cell_type": "code",
   "execution_count": 13,
   "metadata": {},
   "outputs": [
    {
     "data": {
      "text/plain": [
       "3200.0    51\n",
       "3536.0    39\n",
       "4687.0    32\n",
       "6464.0    25\n",
       "8140.0    20\n",
       "          ..\n",
       "2125.0     1\n",
       "1499.0     1\n",
       "8196.0     1\n",
       "5688.0     1\n",
       "976.0      1\n",
       "Name: Tax ID, Length: 9786, dtype: int64"
      ]
     },
     "execution_count": 13,
     "metadata": {},
     "output_type": "execute_result"
    }
   ],
   "source": [
    "# Find out the counts of unique Tax ID\n",
    "h1b_22_df['Tax ID'].value_counts()"
   ]
  },
  {
   "cell_type": "code",
   "execution_count": 15,
   "metadata": {},
   "outputs": [
    {
     "data": {
      "text/html": [
       "<div>\n",
       "<style scoped>\n",
       "    .dataframe tbody tr th:only-of-type {\n",
       "        vertical-align: middle;\n",
       "    }\n",
       "\n",
       "    .dataframe tbody tr th {\n",
       "        vertical-align: top;\n",
       "    }\n",
       "\n",
       "    .dataframe thead th {\n",
       "        text-align: right;\n",
       "    }\n",
       "</style>\n",
       "<table border=\"1\" class=\"dataframe\">\n",
       "  <thead>\n",
       "    <tr style=\"text-align: right;\">\n",
       "      <th></th>\n",
       "      <th>Fiscal Year</th>\n",
       "      <th>Employer</th>\n",
       "      <th>IA</th>\n",
       "      <th>ID</th>\n",
       "      <th>CA</th>\n",
       "      <th>CD</th>\n",
       "      <th>NAICS</th>\n",
       "      <th>Tax ID</th>\n",
       "      <th>State</th>\n",
       "      <th>City</th>\n",
       "      <th>ZIP</th>\n",
       "    </tr>\n",
       "  </thead>\n",
       "  <tbody>\n",
       "    <tr>\n",
       "      <th>1495</th>\n",
       "      <td>2022</td>\n",
       "      <td>AIRLINE TARIFF PUBLISHING CO ATPCO</td>\n",
       "      <td>0</td>\n",
       "      <td>0</td>\n",
       "      <td>1</td>\n",
       "      <td>0</td>\n",
       "      <td>54</td>\n",
       "      <td>8140.0</td>\n",
       "      <td>VA</td>\n",
       "      <td>STERLING</td>\n",
       "      <td>20166.0</td>\n",
       "    </tr>\n",
       "    <tr>\n",
       "      <th>2569</th>\n",
       "      <td>2022</td>\n",
       "      <td>AMNEAL PHARMACEUTICALS OF NEW YORK LLC</td>\n",
       "      <td>1</td>\n",
       "      <td>0</td>\n",
       "      <td>10</td>\n",
       "      <td>0</td>\n",
       "      <td>32</td>\n",
       "      <td>8140.0</td>\n",
       "      <td>NJ</td>\n",
       "      <td>BRIDGEWATER</td>\n",
       "      <td>8807.0</td>\n",
       "    </tr>\n",
       "    <tr>\n",
       "      <th>2570</th>\n",
       "      <td>2022</td>\n",
       "      <td>AMNEAL PHARMACEUTICALS OF NEW YORK LLC</td>\n",
       "      <td>0</td>\n",
       "      <td>0</td>\n",
       "      <td>2</td>\n",
       "      <td>0</td>\n",
       "      <td>32</td>\n",
       "      <td>8140.0</td>\n",
       "      <td>NY</td>\n",
       "      <td>BROOKHAVEN</td>\n",
       "      <td>11719.0</td>\n",
       "    </tr>\n",
       "    <tr>\n",
       "      <th>2571</th>\n",
       "      <td>2022</td>\n",
       "      <td>AMNEAL PHARMACEUTICALS OF NY LLC</td>\n",
       "      <td>0</td>\n",
       "      <td>0</td>\n",
       "      <td>1</td>\n",
       "      <td>0</td>\n",
       "      <td>32</td>\n",
       "      <td>8140.0</td>\n",
       "      <td>NJ</td>\n",
       "      <td>BRIDGEWATER</td>\n",
       "      <td>8807.0</td>\n",
       "    </tr>\n",
       "    <tr>\n",
       "      <th>2572</th>\n",
       "      <td>2022</td>\n",
       "      <td>AMNEAL PHARMACEUTICALS OF NY LLC</td>\n",
       "      <td>0</td>\n",
       "      <td>0</td>\n",
       "      <td>2</td>\n",
       "      <td>0</td>\n",
       "      <td>32</td>\n",
       "      <td>8140.0</td>\n",
       "      <td>NY</td>\n",
       "      <td>BROOKHAVEN</td>\n",
       "      <td>11719.0</td>\n",
       "    </tr>\n",
       "    <tr>\n",
       "      <th>3062</th>\n",
       "      <td>2022</td>\n",
       "      <td>APPLICATIONS SOFTWARE TECH LLC</td>\n",
       "      <td>4</td>\n",
       "      <td>0</td>\n",
       "      <td>12</td>\n",
       "      <td>1</td>\n",
       "      <td>54</td>\n",
       "      <td>8140.0</td>\n",
       "      <td>IL</td>\n",
       "      <td>LISLE</td>\n",
       "      <td>60532.0</td>\n",
       "    </tr>\n",
       "    <tr>\n",
       "      <th>3063</th>\n",
       "      <td>2022</td>\n",
       "      <td>APPLICATIONS SOFTWARE TECH LLC</td>\n",
       "      <td>0</td>\n",
       "      <td>0</td>\n",
       "      <td>1</td>\n",
       "      <td>0</td>\n",
       "      <td>54</td>\n",
       "      <td>8140.0</td>\n",
       "      <td>IL</td>\n",
       "      <td>NAPERVILLE</td>\n",
       "      <td>60563.0</td>\n",
       "    </tr>\n",
       "    <tr>\n",
       "      <th>3064</th>\n",
       "      <td>2022</td>\n",
       "      <td>APPLICATIONS SOFTWARE TECHNOLOGY LLC</td>\n",
       "      <td>5</td>\n",
       "      <td>0</td>\n",
       "      <td>14</td>\n",
       "      <td>1</td>\n",
       "      <td>54</td>\n",
       "      <td>8140.0</td>\n",
       "      <td>IL</td>\n",
       "      <td>LISLE</td>\n",
       "      <td>60532.0</td>\n",
       "    </tr>\n",
       "    <tr>\n",
       "      <th>3065</th>\n",
       "      <td>2022</td>\n",
       "      <td>APPLICATIONS SOFTWARE TECHNOLOGY LLC</td>\n",
       "      <td>0</td>\n",
       "      <td>0</td>\n",
       "      <td>1</td>\n",
       "      <td>0</td>\n",
       "      <td>54</td>\n",
       "      <td>8140.0</td>\n",
       "      <td>IL</td>\n",
       "      <td>NAPERVILLE</td>\n",
       "      <td>60563.0</td>\n",
       "    </tr>\n",
       "    <tr>\n",
       "      <th>3677</th>\n",
       "      <td>2022</td>\n",
       "      <td>ASCENDATA LLC</td>\n",
       "      <td>1</td>\n",
       "      <td>0</td>\n",
       "      <td>0</td>\n",
       "      <td>0</td>\n",
       "      <td>54</td>\n",
       "      <td>8140.0</td>\n",
       "      <td>PA</td>\n",
       "      <td>PHILADELPHIA</td>\n",
       "      <td>19146.0</td>\n",
       "    </tr>\n",
       "    <tr>\n",
       "      <th>3795</th>\n",
       "      <td>2022</td>\n",
       "      <td>ASML US LLC</td>\n",
       "      <td>18</td>\n",
       "      <td>0</td>\n",
       "      <td>30</td>\n",
       "      <td>1</td>\n",
       "      <td>33</td>\n",
       "      <td>8140.0</td>\n",
       "      <td>AZ</td>\n",
       "      <td>CHANDLER</td>\n",
       "      <td>85224.0</td>\n",
       "    </tr>\n",
       "    <tr>\n",
       "      <th>3796</th>\n",
       "      <td>2022</td>\n",
       "      <td>ASML US LLC</td>\n",
       "      <td>0</td>\n",
       "      <td>0</td>\n",
       "      <td>5</td>\n",
       "      <td>0</td>\n",
       "      <td>33</td>\n",
       "      <td>8140.0</td>\n",
       "      <td>CA</td>\n",
       "      <td>SAN DIEGO</td>\n",
       "      <td>92127.0</td>\n",
       "    </tr>\n",
       "  </tbody>\n",
       "</table>\n",
       "</div>"
      ],
      "text/plain": [
       "      Fiscal Year                                Employer  IA  ID  CA  CD  \\\n",
       "1495         2022      AIRLINE TARIFF PUBLISHING CO ATPCO   0   0   1   0   \n",
       "2569         2022  AMNEAL PHARMACEUTICALS OF NEW YORK LLC   1   0  10   0   \n",
       "2570         2022  AMNEAL PHARMACEUTICALS OF NEW YORK LLC   0   0   2   0   \n",
       "2571         2022        AMNEAL PHARMACEUTICALS OF NY LLC   0   0   1   0   \n",
       "2572         2022        AMNEAL PHARMACEUTICALS OF NY LLC   0   0   2   0   \n",
       "3062         2022          APPLICATIONS SOFTWARE TECH LLC   4   0  12   1   \n",
       "3063         2022          APPLICATIONS SOFTWARE TECH LLC   0   0   1   0   \n",
       "3064         2022    APPLICATIONS SOFTWARE TECHNOLOGY LLC   5   0  14   1   \n",
       "3065         2022    APPLICATIONS SOFTWARE TECHNOLOGY LLC   0   0   1   0   \n",
       "3677         2022                           ASCENDATA LLC   1   0   0   0   \n",
       "3795         2022                             ASML US LLC  18   0  30   1   \n",
       "3796         2022                             ASML US LLC   0   0   5   0   \n",
       "\n",
       "      NAICS  Tax ID State          City      ZIP  \n",
       "1495     54  8140.0    VA      STERLING  20166.0  \n",
       "2569     32  8140.0    NJ   BRIDGEWATER   8807.0  \n",
       "2570     32  8140.0    NY    BROOKHAVEN  11719.0  \n",
       "2571     32  8140.0    NJ   BRIDGEWATER   8807.0  \n",
       "2572     32  8140.0    NY    BROOKHAVEN  11719.0  \n",
       "3062     54  8140.0    IL         LISLE  60532.0  \n",
       "3063     54  8140.0    IL    NAPERVILLE  60563.0  \n",
       "3064     54  8140.0    IL         LISLE  60532.0  \n",
       "3065     54  8140.0    IL    NAPERVILLE  60563.0  \n",
       "3677     54  8140.0    PA  PHILADELPHIA  19146.0  \n",
       "3795     33  8140.0    AZ      CHANDLER  85224.0  \n",
       "3796     33  8140.0    CA     SAN DIEGO  92127.0  "
      ]
     },
     "execution_count": 15,
     "metadata": {},
     "output_type": "execute_result"
    }
   ],
   "source": [
    "# Let's see some data for a Tax ID\n",
    "h1b_22_df[h1b_22_df['Tax ID'] == 8140.0].head(12)"
   ]
  },
  {
   "cell_type": "markdown",
   "metadata": {},
   "source": [
    "I identify Four Preprocessing Steps to apply:\n",
    "1. Finding the total number of petitions by each company at different locations (i.e. new column)\n",
    "2. Replacing NAICS code with the industry that they represent\n",
    "3. Removing the rows with missing location information (City, State, or Zip). Since most of our queries are geographical in nature, missing rows here doesn't help much\n",
    "4. Replacing the missing employers with label Unknown\n",
    "\n",
    "**NOTE:** Notice from filtering by Tax ID: 'AMNEAL PHARMACEUTICALS OF NEW YORK LLC' & 'AMNEAL PHARMACEUTICALS OF NY LLC' are going to be treated as different employers even though they are actually the same employer. So, the numbers that we see later might undercount a little bit\t"
   ]
  },
  {
   "cell_type": "markdown",
   "metadata": {},
   "source": [
    "Let's write a function to take care of all preprocessing step"
   ]
  },
  {
   "cell_type": "code",
   "execution_count": 16,
   "metadata": {},
   "outputs": [],
   "source": [
    "def preprocess_h1b_data(data, naics_code):\n",
    "    data['TP'] = data['IA'] + data['ID'] + data['CA'] + data['CD']\n",
    "    data.replace({'NAICS': naics_code}, inplace=True)\n",
    "    data.dropna(subset=['State', 'City', 'ZIP'], inplace=True)\n",
    "    data['Employer'].fillna('Unknown', inplace=True)\n",
    "    return data"
   ]
  },
  {
   "cell_type": "code",
   "execution_count": 17,
   "metadata": {},
   "outputs": [
    {
     "data": {
      "text/html": [
       "<div>\n",
       "<style scoped>\n",
       "    .dataframe tbody tr th:only-of-type {\n",
       "        vertical-align: middle;\n",
       "    }\n",
       "\n",
       "    .dataframe tbody tr th {\n",
       "        vertical-align: top;\n",
       "    }\n",
       "\n",
       "    .dataframe thead th {\n",
       "        text-align: right;\n",
       "    }\n",
       "</style>\n",
       "<table border=\"1\" class=\"dataframe\">\n",
       "  <thead>\n",
       "    <tr style=\"text-align: right;\">\n",
       "      <th></th>\n",
       "      <th>Fiscal Year</th>\n",
       "      <th>Employer</th>\n",
       "      <th>IA</th>\n",
       "      <th>ID</th>\n",
       "      <th>CA</th>\n",
       "      <th>CD</th>\n",
       "      <th>NAICS</th>\n",
       "      <th>Tax ID</th>\n",
       "      <th>State</th>\n",
       "      <th>City</th>\n",
       "      <th>ZIP</th>\n",
       "      <th>TP</th>\n",
       "    </tr>\n",
       "  </thead>\n",
       "  <tbody>\n",
       "    <tr>\n",
       "      <th>26230</th>\n",
       "      <td>2022</td>\n",
       "      <td>MIDDLETON-CROSS PLAINS AREA SCHOOL</td>\n",
       "      <td>1</td>\n",
       "      <td>0</td>\n",
       "      <td>0</td>\n",
       "      <td>0</td>\n",
       "      <td>Educational Services</td>\n",
       "      <td>780.0</td>\n",
       "      <td>WI</td>\n",
       "      <td>MIDDLETON</td>\n",
       "      <td>53562.0</td>\n",
       "      <td>1</td>\n",
       "    </tr>\n",
       "    <tr>\n",
       "      <th>43842</th>\n",
       "      <td>2022</td>\n",
       "      <td>VINCE LLC</td>\n",
       "      <td>1</td>\n",
       "      <td>0</td>\n",
       "      <td>1</td>\n",
       "      <td>0</td>\n",
       "      <td>Retail Trade</td>\n",
       "      <td>7936.0</td>\n",
       "      <td>NY</td>\n",
       "      <td>NEW YORK</td>\n",
       "      <td>10110.0</td>\n",
       "      <td>2</td>\n",
       "    </tr>\n",
       "    <tr>\n",
       "      <th>14638</th>\n",
       "      <td>2022</td>\n",
       "      <td>FAITH REGIONAL PHYSICIAN SERVICES</td>\n",
       "      <td>0</td>\n",
       "      <td>0</td>\n",
       "      <td>1</td>\n",
       "      <td>0</td>\n",
       "      <td>Health Care and Social Assistance</td>\n",
       "      <td>9846.0</td>\n",
       "      <td>NE</td>\n",
       "      <td>NORFOLK</td>\n",
       "      <td>68701.0</td>\n",
       "      <td>1</td>\n",
       "    </tr>\n",
       "    <tr>\n",
       "      <th>23781</th>\n",
       "      <td>2022</td>\n",
       "      <td>LIFEFOUNDRY INC</td>\n",
       "      <td>1</td>\n",
       "      <td>0</td>\n",
       "      <td>0</td>\n",
       "      <td>0</td>\n",
       "      <td>Manufacturing</td>\n",
       "      <td>6184.0</td>\n",
       "      <td>IL</td>\n",
       "      <td>CHAMPAIGN</td>\n",
       "      <td>61820.0</td>\n",
       "      <td>1</td>\n",
       "    </tr>\n",
       "    <tr>\n",
       "      <th>23248</th>\n",
       "      <td>2022</td>\n",
       "      <td>LARSON LLP</td>\n",
       "      <td>0</td>\n",
       "      <td>0</td>\n",
       "      <td>1</td>\n",
       "      <td>0</td>\n",
       "      <td>Professional, Scientific, and Technical Services</td>\n",
       "      <td>9680.0</td>\n",
       "      <td>CA</td>\n",
       "      <td>LOS ANGELES</td>\n",
       "      <td>90071.0</td>\n",
       "      <td>1</td>\n",
       "    </tr>\n",
       "  </tbody>\n",
       "</table>\n",
       "</div>"
      ],
      "text/plain": [
       "       Fiscal Year                            Employer  IA  ID  CA  CD  \\\n",
       "26230         2022  MIDDLETON-CROSS PLAINS AREA SCHOOL   1   0   0   0   \n",
       "43842         2022                           VINCE LLC   1   0   1   0   \n",
       "14638         2022   FAITH REGIONAL PHYSICIAN SERVICES   0   0   1   0   \n",
       "23781         2022                     LIFEFOUNDRY INC   1   0   0   0   \n",
       "23248         2022                          LARSON LLP   0   0   1   0   \n",
       "\n",
       "                                                  NAICS  Tax ID State  \\\n",
       "26230                              Educational Services   780.0    WI   \n",
       "43842                                      Retail Trade  7936.0    NY   \n",
       "14638                 Health Care and Social Assistance  9846.0    NE   \n",
       "23781                                     Manufacturing  6184.0    IL   \n",
       "23248  Professional, Scientific, and Technical Services  9680.0    CA   \n",
       "\n",
       "              City      ZIP  TP  \n",
       "26230    MIDDLETON  53562.0   1  \n",
       "43842     NEW YORK  10110.0   2  \n",
       "14638      NORFOLK  68701.0   1  \n",
       "23781    CHAMPAIGN  61820.0   1  \n",
       "23248  LOS ANGELES  90071.0   1  "
      ]
     },
     "execution_count": 17,
     "metadata": {},
     "output_type": "execute_result"
    }
   ],
   "source": [
    "# Let's see the results\n",
    "h1b_22_transformed = preprocess_h1b_data(h1b_22_df, NAICS_CODE_2022)\n",
    "h1b_22_transformed.sample(5)"
   ]
  },
  {
   "cell_type": "code",
   "execution_count": 18,
   "metadata": {},
   "outputs": [
    {
     "name": "stdout",
     "output_type": "stream",
     "text": [
      "<class 'pandas.core.frame.DataFrame'>\n",
      "Int64Index: 46209 entries, 0 to 46214\n",
      "Data columns (total 12 columns):\n",
      " #   Column       Non-Null Count  Dtype  \n",
      "---  ------       --------------  -----  \n",
      " 0   Fiscal Year  46209 non-null  int64  \n",
      " 1   Employer     46209 non-null  object \n",
      " 2   IA           46209 non-null  int64  \n",
      " 3   ID           46209 non-null  int64  \n",
      " 4   CA           46209 non-null  int64  \n",
      " 5   CD           46209 non-null  int64  \n",
      " 6   NAICS        46209 non-null  object \n",
      " 7   Tax ID       46084 non-null  float64\n",
      " 8   State        46209 non-null  object \n",
      " 9   City         46209 non-null  object \n",
      " 10  ZIP          46209 non-null  float64\n",
      " 11  TP           46209 non-null  int64  \n",
      "dtypes: float64(2), int64(6), object(4)\n",
      "memory usage: 4.6+ MB\n"
     ]
    }
   ],
   "source": [
    "h1b_22_transformed.info()"
   ]
  },
  {
   "cell_type": "markdown",
   "metadata": {},
   "source": [
    "Since the results look good, I will apply the same preprocessing steps to all years & then combine them into one DataFrame."
   ]
  },
  {
   "cell_type": "code",
   "execution_count": 19,
   "metadata": {},
   "outputs": [],
   "source": [
    "files = ['h1b_datahubexport-2022.csv', 'h1b_datahubexport-2021.csv', 'h1b_datahubexport-2020.csv',\n",
    "         'h1b_datahubexport-2019.csv', 'h1b_datahubexport-2018.csv', 'h1b_datahubexport-2017.csv',\n",
    "         'h1b_datahubexport-2016.csv', 'h1b_datahubexport-2015.csv', 'h1b_datahubexport-2014.csv',\n",
    "         'h1b_datahubexport-2013.csv', 'h1b_datahubexport-2012.csv'\n",
    "        ]\n",
    "preprocessed_dfs = []\n",
    "for file in files:\n",
    "    df = pd.read_csv(file)\n",
    "    preprocessed_df = preprocess_h1b_data(df, NAICS_CODE_2022)\n",
    "    preprocessed_dfs.append(preprocessed_df)\n",
    "combined_h1b_data = pd.concat(preprocessed_dfs)"
   ]
  },
  {
   "cell_type": "code",
   "execution_count": 20,
   "metadata": {},
   "outputs": [
    {
     "data": {
      "text/plain": [
       "(597637, 12)"
      ]
     },
     "execution_count": 20,
     "metadata": {},
     "output_type": "execute_result"
    }
   ],
   "source": [
    "# Let's see how many samples we get\n",
    "combined_h1b_data.shape"
   ]
  },
  {
   "cell_type": "code",
   "execution_count": 21,
   "metadata": {},
   "outputs": [
    {
     "data": {
      "text/html": [
       "<div>\n",
       "<style scoped>\n",
       "    .dataframe tbody tr th:only-of-type {\n",
       "        vertical-align: middle;\n",
       "    }\n",
       "\n",
       "    .dataframe tbody tr th {\n",
       "        vertical-align: top;\n",
       "    }\n",
       "\n",
       "    .dataframe thead th {\n",
       "        text-align: right;\n",
       "    }\n",
       "</style>\n",
       "<table border=\"1\" class=\"dataframe\">\n",
       "  <thead>\n",
       "    <tr style=\"text-align: right;\">\n",
       "      <th></th>\n",
       "      <th>Fiscal Year</th>\n",
       "      <th>Employer</th>\n",
       "      <th>IA</th>\n",
       "      <th>ID</th>\n",
       "      <th>CA</th>\n",
       "      <th>CD</th>\n",
       "      <th>NAICS</th>\n",
       "      <th>Tax ID</th>\n",
       "      <th>State</th>\n",
       "      <th>City</th>\n",
       "      <th>ZIP</th>\n",
       "      <th>TP</th>\n",
       "    </tr>\n",
       "  </thead>\n",
       "  <tbody>\n",
       "    <tr>\n",
       "      <th>28138</th>\n",
       "      <td>2012</td>\n",
       "      <td>TRINITY PHARMA SOLUTIONS LLC</td>\n",
       "      <td>1</td>\n",
       "      <td>0</td>\n",
       "      <td>0</td>\n",
       "      <td>0</td>\n",
       "      <td>Professional, Scientific, and Technical Services</td>\n",
       "      <td>6478.0</td>\n",
       "      <td>MA</td>\n",
       "      <td>WALTHAM</td>\n",
       "      <td>2453.0</td>\n",
       "      <td>1</td>\n",
       "    </tr>\n",
       "    <tr>\n",
       "      <th>28906</th>\n",
       "      <td>2015</td>\n",
       "      <td>ROCKIT RECRUITING LLC</td>\n",
       "      <td>0</td>\n",
       "      <td>0</td>\n",
       "      <td>0</td>\n",
       "      <td>1</td>\n",
       "      <td>Administrative and Support and Waste Managemen...</td>\n",
       "      <td>8858.0</td>\n",
       "      <td>CA</td>\n",
       "      <td>SAN FRANCISCO</td>\n",
       "      <td>94107.0</td>\n",
       "      <td>1</td>\n",
       "    </tr>\n",
       "    <tr>\n",
       "      <th>47013</th>\n",
       "      <td>2016</td>\n",
       "      <td>ATHENA TECHNOLOGY INC</td>\n",
       "      <td>2</td>\n",
       "      <td>1</td>\n",
       "      <td>1</td>\n",
       "      <td>0</td>\n",
       "      <td>Professional, Scientific, and Technical Services</td>\n",
       "      <td>3426.0</td>\n",
       "      <td>CA</td>\n",
       "      <td>FREMONT</td>\n",
       "      <td>94539.0</td>\n",
       "      <td>4</td>\n",
       "    </tr>\n",
       "    <tr>\n",
       "      <th>46520</th>\n",
       "      <td>2015</td>\n",
       "      <td>SINGAPORE TELECOM USA INC</td>\n",
       "      <td>0</td>\n",
       "      <td>0</td>\n",
       "      <td>1</td>\n",
       "      <td>0</td>\n",
       "      <td>Unknown</td>\n",
       "      <td>8580.0</td>\n",
       "      <td>CA</td>\n",
       "      <td>REDWOOD CITY</td>\n",
       "      <td>94065.0</td>\n",
       "      <td>1</td>\n",
       "    </tr>\n",
       "    <tr>\n",
       "      <th>14265</th>\n",
       "      <td>2021</td>\n",
       "      <td>D FOCUS AMERICA INC</td>\n",
       "      <td>0</td>\n",
       "      <td>0</td>\n",
       "      <td>1</td>\n",
       "      <td>0</td>\n",
       "      <td>Professional, Scientific, and Technical Services</td>\n",
       "      <td>3774.0</td>\n",
       "      <td>NJ</td>\n",
       "      <td>PALISADES PARK</td>\n",
       "      <td>7650.0</td>\n",
       "      <td>1</td>\n",
       "    </tr>\n",
       "    <tr>\n",
       "      <th>51109</th>\n",
       "      <td>2021</td>\n",
       "      <td>SYNTEGRA INC</td>\n",
       "      <td>0</td>\n",
       "      <td>0</td>\n",
       "      <td>1</td>\n",
       "      <td>0</td>\n",
       "      <td>Information</td>\n",
       "      <td>8711.0</td>\n",
       "      <td>CA</td>\n",
       "      <td>SAN MATEO</td>\n",
       "      <td>94404.0</td>\n",
       "      <td>1</td>\n",
       "    </tr>\n",
       "    <tr>\n",
       "      <th>44213</th>\n",
       "      <td>2015</td>\n",
       "      <td>PEORIA UNIFIED SCHOOL DISTRICT 11</td>\n",
       "      <td>2</td>\n",
       "      <td>0</td>\n",
       "      <td>2</td>\n",
       "      <td>0</td>\n",
       "      <td>Educational Services</td>\n",
       "      <td>488.0</td>\n",
       "      <td>AZ</td>\n",
       "      <td>GLENDALE</td>\n",
       "      <td>85306.0</td>\n",
       "      <td>4</td>\n",
       "    </tr>\n",
       "    <tr>\n",
       "      <th>28</th>\n",
       "      <td>2015</td>\n",
       "      <td>ONRAMP TECHNOLOGIES LLC D B ACHANN</td>\n",
       "      <td>1</td>\n",
       "      <td>0</td>\n",
       "      <td>0</td>\n",
       "      <td>0</td>\n",
       "      <td>Professional, Scientific, and Technical Services</td>\n",
       "      <td>NaN</td>\n",
       "      <td>IL</td>\n",
       "      <td>CHICAGO</td>\n",
       "      <td>60603.0</td>\n",
       "      <td>1</td>\n",
       "    </tr>\n",
       "    <tr>\n",
       "      <th>10443</th>\n",
       "      <td>2016</td>\n",
       "      <td>FLEXTECS LLC</td>\n",
       "      <td>0</td>\n",
       "      <td>0</td>\n",
       "      <td>1</td>\n",
       "      <td>0</td>\n",
       "      <td>Professional, Scientific, and Technical Services</td>\n",
       "      <td>7124.0</td>\n",
       "      <td>GA</td>\n",
       "      <td>ATLANTA</td>\n",
       "      <td>30327.0</td>\n",
       "      <td>1</td>\n",
       "    </tr>\n",
       "    <tr>\n",
       "      <th>5722</th>\n",
       "      <td>2018</td>\n",
       "      <td>COLUMBIA UNIVERSITY</td>\n",
       "      <td>76</td>\n",
       "      <td>0</td>\n",
       "      <td>30</td>\n",
       "      <td>0</td>\n",
       "      <td>Educational Services</td>\n",
       "      <td>8093.0</td>\n",
       "      <td>NY</td>\n",
       "      <td>NEW YORK</td>\n",
       "      <td>10032.0</td>\n",
       "      <td>106</td>\n",
       "    </tr>\n",
       "  </tbody>\n",
       "</table>\n",
       "</div>"
      ],
      "text/plain": [
       "       Fiscal Year                            Employer  IA  ID  CA  CD  \\\n",
       "28138         2012        TRINITY PHARMA SOLUTIONS LLC   1   0   0   0   \n",
       "28906         2015               ROCKIT RECRUITING LLC   0   0   0   1   \n",
       "47013         2016               ATHENA TECHNOLOGY INC   2   1   1   0   \n",
       "46520         2015           SINGAPORE TELECOM USA INC   0   0   1   0   \n",
       "14265         2021                 D FOCUS AMERICA INC   0   0   1   0   \n",
       "51109         2021                        SYNTEGRA INC   0   0   1   0   \n",
       "44213         2015   PEORIA UNIFIED SCHOOL DISTRICT 11   2   0   2   0   \n",
       "28            2015  ONRAMP TECHNOLOGIES LLC D B ACHANN   1   0   0   0   \n",
       "10443         2016                        FLEXTECS LLC   0   0   1   0   \n",
       "5722          2018                 COLUMBIA UNIVERSITY  76   0  30   0   \n",
       "\n",
       "                                                   NAICS  Tax ID State  \\\n",
       "28138   Professional, Scientific, and Technical Services  6478.0    MA   \n",
       "28906  Administrative and Support and Waste Managemen...  8858.0    CA   \n",
       "47013   Professional, Scientific, and Technical Services  3426.0    CA   \n",
       "46520                                            Unknown  8580.0    CA   \n",
       "14265   Professional, Scientific, and Technical Services  3774.0    NJ   \n",
       "51109                                        Information  8711.0    CA   \n",
       "44213                               Educational Services   488.0    AZ   \n",
       "28      Professional, Scientific, and Technical Services     NaN    IL   \n",
       "10443   Professional, Scientific, and Technical Services  7124.0    GA   \n",
       "5722                                Educational Services  8093.0    NY   \n",
       "\n",
       "                 City      ZIP   TP  \n",
       "28138         WALTHAM   2453.0    1  \n",
       "28906   SAN FRANCISCO  94107.0    1  \n",
       "47013         FREMONT  94539.0    4  \n",
       "46520    REDWOOD CITY  94065.0    1  \n",
       "14265  PALISADES PARK   7650.0    1  \n",
       "51109       SAN MATEO  94404.0    1  \n",
       "44213        GLENDALE  85306.0    4  \n",
       "28            CHICAGO  60603.0    1  \n",
       "10443         ATLANTA  30327.0    1  \n",
       "5722         NEW YORK  10032.0  106  "
      ]
     },
     "execution_count": 21,
     "metadata": {},
     "output_type": "execute_result"
    }
   ],
   "source": [
    "combined_h1b_data.sample(10)"
   ]
  },
  {
   "cell_type": "code",
   "execution_count": 22,
   "metadata": {},
   "outputs": [],
   "source": [
    "# Saving the dataset\n",
    "combined_h1b_data.to_csv(\"h1b_2012_2022.csv\", index=False)"
   ]
  },
  {
   "cell_type": "code",
   "execution_count": 23,
   "metadata": {},
   "outputs": [
    {
     "data": {
      "application/javascript": [
       "window.require && require([\"base/js/namespace\"],function(Jupyter){Jupyter.notebook.save_checkpoint()})"
      ],
      "text/plain": [
       "<IPython.core.display.Javascript object>"
      ]
     },
     "metadata": {},
     "output_type": "display_data"
    },
    {
     "name": "stdout",
     "output_type": "stream",
     "text": [
      "[jovian] Updating notebook \"kyawhtetwin/h1b-visa-petitions\" on https://jovian.ai\u001b[0m\n",
      "[jovian] Committed successfully! https://jovian.ai/kyawhtetwin/h1b-visa-petitions\u001b[0m\n"
     ]
    },
    {
     "data": {
      "text/plain": [
       "'https://jovian.ai/kyawhtetwin/h1b-visa-petitions'"
      ]
     },
     "execution_count": 23,
     "metadata": {},
     "output_type": "execute_result"
    }
   ],
   "source": [
    "jovian.commit(project=project_name)"
   ]
  },
  {
   "cell_type": "markdown",
   "metadata": {},
   "source": [
    "## 3. Part 1: Asking Big Picture Questions\n",
    "\n",
    "**In this section, we will ask and explore big-picture questions about H-1B Visa Program.** \n",
    "\n"
   ]
  },
  {
   "cell_type": "markdown",
   "metadata": {},
   "source": [
    "Let's begin by importing`matplotlib.pyplot` and `seaborn`. Along with `pandas` and `numpy`."
   ]
  },
  {
   "cell_type": "code",
   "execution_count": 25,
   "metadata": {},
   "outputs": [],
   "source": [
    "import seaborn as sns\n",
    "import matplotlib\n",
    "import matplotlib.pyplot as plt\n",
    "import numpy as np\n",
    "import pandas as pd\n",
    "%matplotlib inline\n",
    "\n",
    "sns.set_style('darkgrid')\n",
    "matplotlib.rcParams['font.size'] = 14\n",
    "matplotlib.rcParams['figure.figsize'] = (14, 8)\n",
    "matplotlib.rcParams['figure.facecolor'] = '#00000000'"
   ]
  },
  {
   "cell_type": "code",
   "execution_count": 26,
   "metadata": {},
   "outputs": [],
   "source": [
    "# Uncomment & read data from here if you didn't go through the first two steps\n",
    "# combined_h1b_data = pd.read_csv(\"h1b_2012_2022.csv\")"
   ]
  },
  {
   "cell_type": "code",
   "execution_count": 27,
   "metadata": {},
   "outputs": [],
   "source": [
    "fiscal_years = combined_h1b_data['Fiscal Year'].unique()[::-1]"
   ]
  },
  {
   "cell_type": "code",
   "execution_count": 28,
   "metadata": {},
   "outputs": [
    {
     "data": {
      "text/plain": [
       "array([2012, 2013, 2014, 2015, 2016, 2017, 2018, 2019, 2020, 2021, 2022])"
      ]
     },
     "execution_count": 28,
     "metadata": {},
     "output_type": "execute_result"
    }
   ],
   "source": [
    "fiscal_years"
   ]
  },
  {
   "cell_type": "code",
   "execution_count": 37,
   "metadata": {},
   "outputs": [],
   "source": [
    "num_years = fiscal_years.size"
   ]
  },
  {
   "cell_type": "code",
   "execution_count": 29,
   "metadata": {},
   "outputs": [
    {
     "data": {
      "text/html": [
       "<div>\n",
       "<style scoped>\n",
       "    .dataframe tbody tr th:only-of-type {\n",
       "        vertical-align: middle;\n",
       "    }\n",
       "\n",
       "    .dataframe tbody tr th {\n",
       "        vertical-align: top;\n",
       "    }\n",
       "\n",
       "    .dataframe thead th {\n",
       "        text-align: right;\n",
       "    }\n",
       "</style>\n",
       "<table border=\"1\" class=\"dataframe\">\n",
       "  <thead>\n",
       "    <tr style=\"text-align: right;\">\n",
       "      <th></th>\n",
       "      <th>Fiscal Year</th>\n",
       "      <th>Employer</th>\n",
       "      <th>IA</th>\n",
       "      <th>ID</th>\n",
       "      <th>CA</th>\n",
       "      <th>CD</th>\n",
       "      <th>NAICS</th>\n",
       "      <th>Tax ID</th>\n",
       "      <th>State</th>\n",
       "      <th>City</th>\n",
       "      <th>ZIP</th>\n",
       "      <th>TP</th>\n",
       "    </tr>\n",
       "  </thead>\n",
       "  <tbody>\n",
       "    <tr>\n",
       "      <th>52923</th>\n",
       "      <td>2013</td>\n",
       "      <td>CARL ZEISS VISION INC</td>\n",
       "      <td>0</td>\n",
       "      <td>0</td>\n",
       "      <td>2</td>\n",
       "      <td>0</td>\n",
       "      <td>Manufacturing</td>\n",
       "      <td>9941.0</td>\n",
       "      <td>CA</td>\n",
       "      <td>SAN DIEGO</td>\n",
       "      <td>92131.0</td>\n",
       "      <td>2</td>\n",
       "    </tr>\n",
       "    <tr>\n",
       "      <th>39557</th>\n",
       "      <td>2019</td>\n",
       "      <td>BORDERFREE INC</td>\n",
       "      <td>1</td>\n",
       "      <td>0</td>\n",
       "      <td>0</td>\n",
       "      <td>0</td>\n",
       "      <td>Retail Trade</td>\n",
       "      <td>6062.0</td>\n",
       "      <td>CT</td>\n",
       "      <td>SHELTON</td>\n",
       "      <td>6484.0</td>\n",
       "      <td>1</td>\n",
       "    </tr>\n",
       "    <tr>\n",
       "      <th>2333</th>\n",
       "      <td>2018</td>\n",
       "      <td>GENERAL CABLE INDUSTRIES INC</td>\n",
       "      <td>2</td>\n",
       "      <td>0</td>\n",
       "      <td>2</td>\n",
       "      <td>0</td>\n",
       "      <td>Manufacturing</td>\n",
       "      <td>9714.0</td>\n",
       "      <td>KY</td>\n",
       "      <td>NEWPORT</td>\n",
       "      <td>41076.0</td>\n",
       "      <td>4</td>\n",
       "    </tr>\n",
       "    <tr>\n",
       "      <th>26057</th>\n",
       "      <td>2021</td>\n",
       "      <td>INFOMATICS INC</td>\n",
       "      <td>1</td>\n",
       "      <td>0</td>\n",
       "      <td>0</td>\n",
       "      <td>0</td>\n",
       "      <td>Professional, Scientific, and Technical Services</td>\n",
       "      <td>9036.0</td>\n",
       "      <td>MI</td>\n",
       "      <td>FARMINGTON HILLS</td>\n",
       "      <td>48331.0</td>\n",
       "      <td>1</td>\n",
       "    </tr>\n",
       "    <tr>\n",
       "      <th>24507</th>\n",
       "      <td>2015</td>\n",
       "      <td>ADVANCED TECH GROUP USA INC</td>\n",
       "      <td>1</td>\n",
       "      <td>0</td>\n",
       "      <td>0</td>\n",
       "      <td>0</td>\n",
       "      <td>Professional, Scientific, and Technical Services</td>\n",
       "      <td>6910.0</td>\n",
       "      <td>MI</td>\n",
       "      <td>TROY</td>\n",
       "      <td>48098.0</td>\n",
       "      <td>1</td>\n",
       "    </tr>\n",
       "  </tbody>\n",
       "</table>\n",
       "</div>"
      ],
      "text/plain": [
       "       Fiscal Year                      Employer  IA  ID  CA  CD  \\\n",
       "52923         2013         CARL ZEISS VISION INC   0   0   2   0   \n",
       "39557         2019                BORDERFREE INC   1   0   0   0   \n",
       "2333          2018  GENERAL CABLE INDUSTRIES INC   2   0   2   0   \n",
       "26057         2021                INFOMATICS INC   1   0   0   0   \n",
       "24507         2015   ADVANCED TECH GROUP USA INC   1   0   0   0   \n",
       "\n",
       "                                                  NAICS  Tax ID State  \\\n",
       "52923                                     Manufacturing  9941.0    CA   \n",
       "39557                                      Retail Trade  6062.0    CT   \n",
       "2333                                      Manufacturing  9714.0    KY   \n",
       "26057  Professional, Scientific, and Technical Services  9036.0    MI   \n",
       "24507  Professional, Scientific, and Technical Services  6910.0    MI   \n",
       "\n",
       "                   City      ZIP  TP  \n",
       "52923         SAN DIEGO  92131.0   2  \n",
       "39557           SHELTON   6484.0   1  \n",
       "2333            NEWPORT  41076.0   4  \n",
       "26057  FARMINGTON HILLS  48331.0   1  \n",
       "24507              TROY  48098.0   1  "
      ]
     },
     "execution_count": 29,
     "metadata": {},
     "output_type": "execute_result"
    }
   ],
   "source": [
    "# Seeing some samples\n",
    "combined_h1b_data.sample(5)"
   ]
  },
  {
   "cell_type": "markdown",
   "metadata": {},
   "source": [
    "**Question: Is there any correlation for an employer between getting an Initial Approval & Continuing Approval?** "
   ]
  },
  {
   "cell_type": "code",
   "execution_count": 30,
   "metadata": {},
   "outputs": [
    {
     "data": {
      "text/html": [
       "<style type=\"text/css\">\n",
       "#T_5d9d5_row0_col0, #T_5d9d5_row1_col1 {\n",
       "  background-color: #b40426;\n",
       "  color: #f1f1f1;\n",
       "}\n",
       "#T_5d9d5_row0_col1, #T_5d9d5_row1_col0 {\n",
       "  background-color: #3b4cc0;\n",
       "  color: #f1f1f1;\n",
       "}\n",
       "</style>\n",
       "<table id=\"T_5d9d5_\">\n",
       "  <thead>\n",
       "    <tr>\n",
       "      <th class=\"blank level0\" >&nbsp;</th>\n",
       "      <th class=\"col_heading level0 col0\" >IA</th>\n",
       "      <th class=\"col_heading level0 col1\" >CA</th>\n",
       "    </tr>\n",
       "  </thead>\n",
       "  <tbody>\n",
       "    <tr>\n",
       "      <th id=\"T_5d9d5_level0_row0\" class=\"row_heading level0 row0\" >IA</th>\n",
       "      <td id=\"T_5d9d5_row0_col0\" class=\"data row0 col0\" >1.000000</td>\n",
       "      <td id=\"T_5d9d5_row0_col1\" class=\"data row0 col1\" >0.866720</td>\n",
       "    </tr>\n",
       "    <tr>\n",
       "      <th id=\"T_5d9d5_level0_row1\" class=\"row_heading level0 row1\" >CA</th>\n",
       "      <td id=\"T_5d9d5_row1_col0\" class=\"data row1 col0\" >0.866720</td>\n",
       "      <td id=\"T_5d9d5_row1_col1\" class=\"data row1 col1\" >1.000000</td>\n",
       "    </tr>\n",
       "  </tbody>\n",
       "</table>\n"
      ],
      "text/plain": [
       "<pandas.io.formats.style.Styler at 0x7f2dc72149a0>"
      ]
     },
     "execution_count": 30,
     "metadata": {},
     "output_type": "execute_result"
    }
   ],
   "source": [
    "corr = combined_h1b_data.groupby(by='Employer')[['IA', 'CA']].sum().corr()\n",
    "corr.style.background_gradient(cmap='coolwarm')"
   ]
  },
  {
   "cell_type": "markdown",
   "metadata": {},
   "source": [
    "**There seems to be a strong linear correlation. Employers who filed H-1B for new/concurrent employment and are approved are also likely to get approved when filing for continuing type of employment.**"
   ]
  },
  {
   "cell_type": "markdown",
   "metadata": {},
   "source": [
    "**Question:How has the total number of H1-B petitions filed changed over the years?**"
   ]
  },
  {
   "cell_type": "code",
   "execution_count": 136,
   "metadata": {},
   "outputs": [
    {
     "data": {
      "image/png": "[encoded data removed]",
      "text/plain": [
       "<Figure size 1008x576 with 1 Axes>"
      ]
     },
     "metadata": {
      "needs_background": "light"
     },
     "output_type": "display_data"
    }
   ],
   "source": [
    "tp_yearly = combined_h1b_data.groupby(by=['Fiscal Year'])['TP'].sum()\n",
    "average = tp_yearly.mean()\n",
    "plt.bar(x=tp_yearly.index, height=tp_yearly.values, color='purple')\n",
    "plt.plot(tp_yearly.index, tp_yearly.values, \"o--g\")\n",
    "plt.axhline(y = average, color = 'red', linestyle = ':', label = \"Average\")\n",
    "plt.title(\"Changes in Total Number of H1-B petitions over years in US\")\n",
    "plt.ylabel(\"Number of Petitions filed\")\n",
    "plt.legend()\n",
    "plt.xticks(fiscal_years);"
   ]
  },
  {
   "cell_type": "markdown",
   "metadata": {},
   "source": [
    "**Observation:<br>\n",
    "While the total number of H-1B petitions have generally been on the rise in the last decade, peaking in 2021, there has been a sharp decline of H-1B filing in the most recent year 2022, even falling before the average of the last decade since 2015. However, since I am conducting the analysis in Dec 2022, we don't quite have complete data for 2022 fiscal year. It might be in fact turns out to be around the decade average (or not). Although the number of petitions are likely to be much fewer compared to last 3 years.**"
   ]
  },
  {
   "cell_type": "markdown",
   "metadata": {},
   "source": [
    "**Question: How has the approval/denial ratio of H1B visa petitions change over the years?** "
   ]
  },
  {
   "cell_type": "code",
   "execution_count": 51,
   "metadata": {},
   "outputs": [],
   "source": [
    "# Getting total applications approved & denied\n",
    "combined_h1b_data['AP'] = combined_h1b_data['IA'] + combined_h1b_data['CA']\n",
    "combined_h1b_data['DP'] = combined_h1b_data['ID'] + combined_h1b_data['CD']"
   ]
  },
  {
   "cell_type": "code",
   "execution_count": 52,
   "metadata": {},
   "outputs": [
    {
     "data": {
      "text/html": [
       "<div>\n",
       "<style scoped>\n",
       "    .dataframe tbody tr th:only-of-type {\n",
       "        vertical-align: middle;\n",
       "    }\n",
       "\n",
       "    .dataframe tbody tr th {\n",
       "        vertical-align: top;\n",
       "    }\n",
       "\n",
       "    .dataframe thead th {\n",
       "        text-align: right;\n",
       "    }\n",
       "</style>\n",
       "<table border=\"1\" class=\"dataframe\">\n",
       "  <thead>\n",
       "    <tr style=\"text-align: right;\">\n",
       "      <th></th>\n",
       "      <th>AP</th>\n",
       "      <th>DP</th>\n",
       "    </tr>\n",
       "    <tr>\n",
       "      <th>Fiscal Year</th>\n",
       "      <th></th>\n",
       "      <th></th>\n",
       "    </tr>\n",
       "  </thead>\n",
       "  <tbody>\n",
       "    <tr>\n",
       "      <th>2012</th>\n",
       "      <td>269817</td>\n",
       "      <td>11429</td>\n",
       "    </tr>\n",
       "    <tr>\n",
       "      <th>2013</th>\n",
       "      <td>295262</td>\n",
       "      <td>14143</td>\n",
       "    </tr>\n",
       "    <tr>\n",
       "      <th>2014</th>\n",
       "      <td>332794</td>\n",
       "      <td>16764</td>\n",
       "    </tr>\n",
       "    <tr>\n",
       "      <th>2015</th>\n",
       "      <td>288486</td>\n",
       "      <td>13073</td>\n",
       "    </tr>\n",
       "    <tr>\n",
       "      <th>2016</th>\n",
       "      <td>357187</td>\n",
       "      <td>23032</td>\n",
       "    </tr>\n",
       "    <tr>\n",
       "      <th>2017</th>\n",
       "      <td>373382</td>\n",
       "      <td>29855</td>\n",
       "    </tr>\n",
       "    <tr>\n",
       "      <th>2018</th>\n",
       "      <td>334944</td>\n",
       "      <td>61345</td>\n",
       "    </tr>\n",
       "    <tr>\n",
       "      <th>2019</th>\n",
       "      <td>389319</td>\n",
       "      <td>69512</td>\n",
       "    </tr>\n",
       "    <tr>\n",
       "      <th>2020</th>\n",
       "      <td>426723</td>\n",
       "      <td>39914</td>\n",
       "    </tr>\n",
       "    <tr>\n",
       "      <th>2021</th>\n",
       "      <td>475120</td>\n",
       "      <td>13467</td>\n",
       "    </tr>\n",
       "    <tr>\n",
       "      <th>2022</th>\n",
       "      <td>335444</td>\n",
       "      <td>7091</td>\n",
       "    </tr>\n",
       "  </tbody>\n",
       "</table>\n",
       "</div>"
      ],
      "text/plain": [
       "                 AP     DP\n",
       "Fiscal Year               \n",
       "2012         269817  11429\n",
       "2013         295262  14143\n",
       "2014         332794  16764\n",
       "2015         288486  13073\n",
       "2016         357187  23032\n",
       "2017         373382  29855\n",
       "2018         334944  61345\n",
       "2019         389319  69512\n",
       "2020         426723  39914\n",
       "2021         475120  13467\n",
       "2022         335444   7091"
      ]
     },
     "execution_count": 52,
     "metadata": {},
     "output_type": "execute_result"
    }
   ],
   "source": [
    "# Grouping & Summing for individual years\n",
    "approved_denied_years = combined_h1b_data.groupby(by='Fiscal Year')[['AP', 'DP']].sum()\n",
    "approved_denied_years"
   ]
  },
  {
   "cell_type": "code",
   "execution_count": 53,
   "metadata": {},
   "outputs": [
    {
     "data": {
      "text/plain": [
       "array([[0.95936298, 0.04063702],\n",
       "       [0.95428969, 0.04571031],\n",
       "       [0.95204229, 0.04795771],\n",
       "       [0.95664862, 0.04335138],\n",
       "       [0.93942438, 0.06057562],\n",
       "       [0.92596166, 0.07403834],\n",
       "       [0.84520136, 0.15479864],\n",
       "       [0.84850195, 0.15149805],\n",
       "       [0.91446456, 0.08553544],\n",
       "       [0.97243684, 0.02756316],\n",
       "       [0.97929847, 0.02070153]])"
      ]
     },
     "execution_count": 53,
     "metadata": {},
     "output_type": "execute_result"
    }
   ],
   "source": [
    "# Dividing by total applications to get a ratio\n",
    "approval_denial_ratio = (approved_denied_years.values / tp_yearly.values[:, np.newaxis])\n",
    "approval_denial_ratio"
   ]
  },
  {
   "cell_type": "code",
   "execution_count": 54,
   "metadata": {},
   "outputs": [
    {
     "data": {
      "image/png": "[encoded data removed]",
      "text/plain": [
       "<Figure size 1008x576 with 1 Axes>"
      ]
     },
     "metadata": {
      "needs_background": "light"
     },
     "output_type": "display_data"
    }
   ],
   "source": [
    "plt.bar(approved_denied_years.index, approval_denial_ratio[:, 1], color='red')\n",
    "plt.bar(approved_denied_years.index, approval_denial_ratio[:, 0], color='green', bottom=approval_denial_ratio[:, 1])\n",
    "plt.legend(['Denial', 'Approval'], loc='center left', bbox_to_anchor=(1, 0.5))\n",
    "plt.title(\"Changes in Approval/Denial Ratio of H1B Petitions by Years in USA\")\n",
    "plt.xticks(fiscal_years);"
   ]
  },
  {
   "cell_type": "markdown",
   "metadata": {},
   "source": [
    "**Observation:<br>\n",
    "The approval rate is pretty high once an employer files a H-1B petition for you. We see an unusually high number of petitions getting denied in 2018-2019. Was it related to Trump H-1B's policy? Nevertheless, USCIS have been rejecting fewer applications in recent years.**"
   ]
  },
  {
   "cell_type": "markdown",
   "metadata": {},
   "source": [
    "**Question: Which industries filed most of the H1-B visa petitions that are getting approved? Here, I want to look at what it looks like without including the most recent year.**"
   ]
  },
  {
   "cell_type": "code",
   "execution_count": 96,
   "metadata": {},
   "outputs": [],
   "source": [
    "combined_h1b_exclu_recent = combined_h1b_data[combined_h1b_data['Fiscal Year'] != fiscal_years[-1]]"
   ]
  },
  {
   "cell_type": "code",
   "execution_count": 97,
   "metadata": {},
   "outputs": [],
   "source": [
    "Num_Industries = combined_h1b_exclu_recent['NAICS'].unique().size\n",
    "Total_petitions_approved = combined_h1b_exclu_recent['AP'].sum()"
   ]
  },
  {
   "cell_type": "code",
   "execution_count": 98,
   "metadata": {},
   "outputs": [
    {
     "data": {
      "text/plain": [
       "NAICS\n",
       "Professional, Scientific, and Technical Services                            58.083101\n",
       "Manufacturing                                                                9.721047\n",
       "Educational Services                                                         6.703323\n",
       "Information                                                                  6.231467\n",
       "Finance and Insurance                                                        6.073241\n",
       "Health Care and Social Assistance                                            4.040633\n",
       "Retail Trade                                                                 3.441937\n",
       "Wholesale Trade                                                              0.921019\n",
       "Administrative and Support and Waste Management and Remediation Services     0.893472\n",
       "Unknown                                                                      0.763470\n",
       "Name: AP, dtype: float64"
      ]
     },
     "execution_count": 98,
     "metadata": {},
     "output_type": "execute_result"
    }
   ],
   "source": [
    "# Grouped by Industries & summing up total approved petitions\n",
    "approved_by_industry = combined_h1b_exclu_recent.groupby(by='NAICS')['AP'].sum().nlargest(Num_Industries)\n",
    "approved_by_industry_percent = (approved_by_industry / Total_petitions_approved) * 100\n",
    "approved_by_industry_percent.iloc[:10]"
   ]
  },
  {
   "cell_type": "code",
   "execution_count": 111,
   "metadata": {},
   "outputs": [
    {
     "data": {
      "image/png": "[encoded data removed]",
      "text/plain": [
       "<Figure size 1008x576 with 1 Axes>"
      ]
     },
     "metadata": {
      "needs_background": "light"
     },
     "output_type": "display_data"
    }
   ],
   "source": [
    "num_industries_show = 10\n",
    "start_yr, end_yr = fiscal_years[0], fiscal_years[-2]\n",
    "sns.barplot(x=approved_by_industry_percent.values[:num_industries_show], y=approved_by_industry_percent.index[:num_industries_show])\n",
    "plt.title(f\"Percentage of Petitions Getting Approved Broken Down by Industry {start_yr}-{end_yr}\");\n",
    "plt.ylabel(\"\");"
   ]
  },
  {
   "cell_type": "code",
   "execution_count": 100,
   "metadata": {},
   "outputs": [
    {
     "name": "stdout",
     "output_type": "stream",
     "text": [
      "Top 4 industries capture(s) 80.74% of all applications filed\n"
     ]
    }
   ],
   "source": [
    "top4_industries = 4\n",
    "top4_percent = approved_by_industry_percent.iloc[:top4_industries].sum()\n",
    "print(f\"Top {top4_industries} industries capture(s) {round(top4_percent, 2)}% of all applications filed\")"
   ]
  },
  {
   "cell_type": "markdown",
   "metadata": {},
   "source": [
    "**Observation: <br>\n",
    "Over the last decade, STEM occupations alone represents a staggering 56% of all approved applications, followed by Manufacturing, Education, and Information. These top 4 industries captures a total of 80.74% of all approved applications.** "
   ]
  },
  {
   "cell_type": "markdown",
   "metadata": {},
   "source": [
    "**Question: In which states are the applications getting approved?**"
   ]
  },
  {
   "cell_type": "code",
   "execution_count": 101,
   "metadata": {},
   "outputs": [],
   "source": [
    "\"\"\"\n",
    "    For compact display, let's just see the top 25 states\n",
    "\"\"\"\n",
    "num_states_show = 25"
   ]
  },
  {
   "cell_type": "code",
   "execution_count": 102,
   "metadata": {},
   "outputs": [],
   "source": [
    "# Group by state & sum up the total approved applications\n",
    "approved_by_state = combined_h1b_exclu_recent.groupby(by='State')['AP'].sum().nlargest(num_states_show)\n",
    "approved_by_state_percent = (approved_by_state / Total_petitions_approved) * 100"
   ]
  },
  {
   "cell_type": "code",
   "execution_count": 112,
   "metadata": {},
   "outputs": [
    {
     "data": {
      "image/png": "[encoded data removed]",
      "text/plain": [
       "<Figure size 1008x576 with 1 Axes>"
      ]
     },
     "metadata": {
      "needs_background": "light"
     },
     "output_type": "display_data"
    }
   ],
   "source": [
    "sns.barplot(x=approved_by_state_percent.values, y=approved_by_state_percent.index)\n",
    "start_yr, end_yr = fiscal_years[0], fiscal_years[-2]\n",
    "plt.title(f\"Percentage of Petitions Getting Approved Broken Down by State {start_yr}-{end_yr}\")\n",
    "plt.xlabel(\"Percentage(%)\")\n",
    "plt.ylabel(\"States in U.S.A\");"
   ]
  },
  {
   "cell_type": "markdown",
   "metadata": {},
   "source": [
    "**Observation:<br>\n",
    "California, Texas, New Jersey, and New York represents about half of the applications approved in the country.**"
   ]
  },
  {
   "cell_type": "markdown",
   "metadata": {},
   "source": [
    "**Question: Show some popular cities in those top states for H-1B applicants?**"
   ]
  },
  {
   "cell_type": "code",
   "execution_count": 103,
   "metadata": {},
   "outputs": [
    {
     "data": {
      "text/plain": [
       "array(['CA', 'TX', 'NJ', 'NY'], dtype=object)"
      ]
     },
     "execution_count": 103,
     "metadata": {},
     "output_type": "execute_result"
    }
   ],
   "source": [
    "top_states = approved_by_state_percent.index[:4].values\n",
    "top_states"
   ]
  },
  {
   "cell_type": "code",
   "execution_count": 104,
   "metadata": {},
   "outputs": [],
   "source": [
    "num_cities = 12"
   ]
  },
  {
   "cell_type": "code",
   "execution_count": 105,
   "metadata": {},
   "outputs": [],
   "source": [
    "top_cities = combined_h1b_exclu_recent[combined_h1b_exclu_recent['State'].isin(top_states)].groupby(['State', 'City'])['AP'].sum().nlargest(num_cities)"
   ]
  },
  {
   "cell_type": "code",
   "execution_count": 106,
   "metadata": {},
   "outputs": [
    {
     "data": {
      "text/plain": [
       "State  City           \n",
       "NY     NEW YORK           174135\n",
       "TX     COLLEGE STATION    136500\n",
       "       PLANO               97175\n",
       "CA     SAN FRANCISCO       85614\n",
       "       SAN JOSE            68338\n",
       "NJ     EDISON              63525\n",
       "       EAST BRUNSWICK      62386\n",
       "CA     SUNNYVALE           56941\n",
       "TX     HOUSTON             52916\n",
       "       DALLAS              48429\n",
       "CA     SANTA CLARA         40593\n",
       "TX     RICHARDSON          39897\n",
       "Name: AP, dtype: int64"
      ]
     },
     "execution_count": 106,
     "metadata": {},
     "output_type": "execute_result"
    }
   ],
   "source": [
    "top_cities"
   ]
  },
  {
   "cell_type": "code",
   "execution_count": 107,
   "metadata": {},
   "outputs": [],
   "source": [
    "labels = [city + ',' + state for state, city in top_cities.index]\n",
    "explode = []\n",
    "for i in range(num_cities):\n",
    "    if i < 3:\n",
    "        explode.append(0.1)\n",
    "    else:\n",
    "        explode.append(0)"
   ]
  },
  {
   "cell_type": "code",
   "execution_count": 113,
   "metadata": {},
   "outputs": [
    {
     "data": {
      "image/png": "[encoded data removed]",
      "text/plain": [
       "<Figure size 1008x576 with 1 Axes>"
      ]
     },
     "metadata": {},
     "output_type": "display_data"
    }
   ],
   "source": [
    "plt.pie(top_cities, labels=labels,  colors=sns.color_palette('bright'), shadow=True, autopct=\"%.0f%%\", explode=explode)\n",
    "start_yr, end_yr = fiscal_years[0], fiscal_years[-2]\n",
    "plt.title(f\"Shows the Percentage of Petitions Approved Out of {top_cities.sum()} Applications at top {num_cities} cities {start_yr}-{end_yr}\");"
   ]
  },
  {
   "cell_type": "markdown",
   "metadata": {},
   "source": [
    "Let us save and upload our work to Jovian before continuing"
   ]
  },
  {
   "cell_type": "code",
   "execution_count": 114,
   "metadata": {},
   "outputs": [
    {
     "data": {
      "application/javascript": [
       "window.require && require([\"base/js/namespace\"],function(Jupyter){Jupyter.notebook.save_checkpoint()})"
      ],
      "text/plain": [
       "<IPython.core.display.Javascript object>"
      ]
     },
     "metadata": {},
     "output_type": "display_data"
    },
    {
     "name": "stdout",
     "output_type": "stream",
     "text": [
      "[jovian] Updating notebook \"kyawhtetwin/h1b-visa-petitions\" on https://jovian.ai\u001b[0m\n",
      "[jovian] Committed successfully! https://jovian.ai/kyawhtetwin/h1b-visa-petitions\u001b[0m\n"
     ]
    },
    {
     "data": {
      "text/plain": [
       "'https://jovian.ai/kyawhtetwin/h1b-visa-petitions'"
      ]
     },
     "execution_count": 114,
     "metadata": {},
     "output_type": "execute_result"
    }
   ],
   "source": [
    "jovian.commit(project=project_name)"
   ]
  },
  {
   "cell_type": "markdown",
   "metadata": {},
   "source": [
    "# Part 2: Recent Year Analysis For Comp Sci Student in LA\n",
    "\n",
    "In this section, I want to explore more about the most recent year to inform the decision of a recent international comp sci grad student in LA (That's me! 😃).\n",
    "\n"
   ]
  },
  {
   "cell_type": "markdown",
   "metadata": {},
   "source": [
    "#### Q1: In the United States, what's the total number of applications approved in 2022 & where are the H1-B visa applications filed? How much has the total number of applications filed in 2022 changed from last year?"
   ]
  },
  {
   "cell_type": "code",
   "execution_count": 115,
   "metadata": {},
   "outputs": [],
   "source": [
    "Year = fiscal_years[-1]"
   ]
  },
  {
   "cell_type": "code",
   "execution_count": 116,
   "metadata": {},
   "outputs": [],
   "source": [
    "h1b_2022 = combined_h1b_data[combined_h1b_data['Fiscal Year'] == Year].copy()"
   ]
  },
  {
   "cell_type": "code",
   "execution_count": null,
   "metadata": {},
   "outputs": [],
   "source": [
    "total_approved_app = h1b_2022['AP'].sum()\n",
    "print(f\"Total number of applications approved in {Year}: {total_approved_app}\")"
   ]
  },
  {
   "cell_type": "code",
   "execution_count": null,
   "metadata": {},
   "outputs": [
    {
     "name": "stdout",
     "output_type": "stream",
     "text": [
      "The total number of approved applications in 2022 have dropped by 29.4% from last year\n"
     ]
    }
   ],
   "source": [
    "total_approved_app_2021 = combined_h1b_data[combined_h1b_data['Fiscal Year'] == 2021]['AP'].sum()\n",
    "change = round(((total_approved_app_2021-total_approved_app)/total_approved_app_2021)*100, 2)\n",
    "print(f\"The total number of approved applications in {Year} have dropped by {change}% from last year\")"
   ]
  },
  {
   "cell_type": "code",
   "execution_count": null,
   "metadata": {},
   "outputs": [],
   "source": [
    "total_approved_by_state = h1b_2022.groupby('State')['AP'].sum().reset_index()"
   ]
  },
  {
   "cell_type": "code",
   "execution_count": null,
   "metadata": {},
   "outputs": [],
   "source": [
    "!pip install plotly-express --upgrade --quiet"
   ]
  },
  {
   "cell_type": "code",
   "execution_count": 137,
   "metadata": {},
   "outputs": [
    {
     "data": {
      "application/vnd.plotly.v1+json": {
       "config": {
        "plotlyServerURL": "https://plot.ly"
       },
       "data": [
        {
         "coloraxis": "coloraxis",
         "geo": "geo",
         "hovertemplate": "State=%{location}<br>AP=%{z}<extra></extra>",
         "locationmode": "USA-states",
         "locations": [
          "AK",
          "AL",
          "AP",
          "AR",
          "AZ",
          "CA",
          "CO",
          "CT",
          "DC",
          "DE",
          "FL",
          "GA",
          "GU",
          "HI",
          "IA",
          "ID",
          "IL",
          "IN",
          "KS",
          "KY",
          "LA",
          "MA",
          "MD",
          "ME",
          "MI",
          "MN",
          "MO",
          "MP",
          "MS",
          "MT",
          "NC",
          "ND",
          "NE",
          "NH",
          "NJ",
          "NM",
          "NV",
          "NY",
          "OH",
          "OK",
          "OR",
          "PA",
          "PR",
          "RI",
          "SC",
          "SD",
          "TN",
          "TX",
          "UT",
          "VA",
          "VI",
          "VT",
          "WA",
          "WI",
          "WV",
          "WY"
         ],
         "name": "",
         "type": "choropleth",
         "z": [
          54,
          911,
          1,
          2653,
          5558,
          79023,
          2138,
          2713,
          1096,
          1238,
          8032,
          6970,
          300,
          119,
          1116,
          535,
          16656,
          2101,
          856,
          868,
          709,
          14689,
          11375,
          274,
          10293,
          3831,
          2919,
          18,
          230,
          95,
          7625,
          164,
          1142,
          505,
          27316,
          496,
          578,
          23516,
          4339,
          631,
          1167,
          12979,
          30,
          1449,
          1089,
          583,
          3414,
          30173,
          1323,
          18340,
          15,
          177,
          18268,
          2542,
          162,
          50
         ]
        }
       ],
       "layout": {
        "coloraxis": {
         "colorbar": {
          "title": {
           "text": "Approved Petitions"
          }
         },
         "colorscale": [
          [
           0,
           "#fde725"
          ],
          [
           0.1111111111111111,
           "#b5de2b"
          ],
          [
           0.2222222222222222,
           "#6ece58"
          ],
          [
           0.3333333333333333,
           "#35b779"
          ],
          [
           0.4444444444444444,
           "#1f9e89"
          ],
          [
           0.5555555555555556,
           "#26828e"
          ],
          [
           0.6666666666666666,
           "#31688e"
          ],
          [
           0.7777777777777778,
           "#3e4989"
          ],
          [
           0.8888888888888888,
           "#482878"
          ],
          [
           1,
           "#440154"
          ]
         ]
        },
        "geo": {
         "center": {},
         "domain": {
          "x": [
           0,
           1
          ],
          "y": [
           0,
           1
          ]
         },
         "scope": "usa"
        },
        "legend": {
         "tracegroupgap": 0
        },
        "margin": {
         "t": 60
        },
        "template": {
         "data": {
          "bar": [
           {
            "error_x": {
             "color": "#2a3f5f"
            },
            "error_y": {
             "color": "#2a3f5f"
            },
            "marker": {
             "line": {
              "color": "#E5ECF6",
              "width": 0.5
             },
             "pattern": {
              "fillmode": "overlay",
              "size": 10,
              "solidity": 0.2
             }
            },
            "type": "bar"
           }
          ],
          "barpolar": [
           {
            "marker": {
             "line": {
              "color": "#E5ECF6",
              "width": 0.5
             },
             "pattern": {
              "fillmode": "overlay",
              "size": 10,
              "solidity": 0.2
             }
            },
            "type": "barpolar"
           }
          ],
          "carpet": [
           {
            "aaxis": {
             "endlinecolor": "#2a3f5f",
             "gridcolor": "white",
             "linecolor": "white",
             "minorgridcolor": "white",
             "startlinecolor": "#2a3f5f"
            },
            "baxis": {
             "endlinecolor": "#2a3f5f",
             "gridcolor": "white",
             "linecolor": "white",
             "minorgridcolor": "white",
             "startlinecolor": "#2a3f5f"
            },
            "type": "carpet"
           }
          ],
          "choropleth": [
           {
            "colorbar": {
             "outlinewidth": 0,
             "ticks": ""
            },
            "type": "choropleth"
           }
          ],
          "contour": [
           {
            "colorbar": {
             "outlinewidth": 0,
             "ticks": ""
            },
            "colorscale": [
             [
              0,
              "#0d0887"
             ],
             [
              0.1111111111111111,
              "#46039f"
             ],
             [
              0.2222222222222222,
              "#7201a8"
             ],
             [
              0.3333333333333333,
              "#9c179e"
             ],
             [
              0.4444444444444444,
              "#bd3786"
             ],
             [
              0.5555555555555556,
              "#d8576b"
             ],
             [
              0.6666666666666666,
              "#ed7953"
             ],
             [
              0.7777777777777778,
              "#fb9f3a"
             ],
             [
              0.8888888888888888,
              "#fdca26"
             ],
             [
              1,
              "#f0f921"
             ]
            ],
            "type": "contour"
           }
          ],
          "contourcarpet": [
           {
            "colorbar": {
             "outlinewidth": 0,
             "ticks": ""
            },
            "type": "contourcarpet"
           }
          ],
          "heatmap": [
           {
            "colorbar": {
             "outlinewidth": 0,
             "ticks": ""
            },
            "colorscale": [
             [
              0,
              "#0d0887"
             ],
             [
              0.1111111111111111,
              "#46039f"
             ],
             [
              0.2222222222222222,
              "#7201a8"
             ],
             [
              0.3333333333333333,
              "#9c179e"
             ],
             [
              0.4444444444444444,
              "#bd3786"
             ],
             [
              0.5555555555555556,
              "#d8576b"
             ],
             [
              0.6666666666666666,
              "#ed7953"
             ],
             [
              0.7777777777777778,
              "#fb9f3a"
             ],
             [
              0.8888888888888888,
              "#fdca26"
             ],
             [
              1,
              "#f0f921"
             ]
            ],
            "type": "heatmap"
           }
          ],
          "heatmapgl": [
           {
            "colorbar": {
             "outlinewidth": 0,
             "ticks": ""
            },
            "colorscale": [
             [
              0,
              "#0d0887"
             ],
             [
              0.1111111111111111,
              "#46039f"
             ],
             [
              0.2222222222222222,
              "#7201a8"
             ],
             [
              0.3333333333333333,
              "#9c179e"
             ],
             [
              0.4444444444444444,
              "#bd3786"
             ],
             [
              0.5555555555555556,
              "#d8576b"
             ],
             [
              0.6666666666666666,
              "#ed7953"
             ],
             [
              0.7777777777777778,
              "#fb9f3a"
             ],
             [
              0.8888888888888888,
              "#fdca26"
             ],
             [
              1,
              "#f0f921"
             ]
            ],
            "type": "heatmapgl"
           }
          ],
          "histogram": [
           {
            "marker": {
             "pattern": {
              "fillmode": "overlay",
              "size": 10,
              "solidity": 0.2
             }
            },
            "type": "histogram"
           }
          ],
          "histogram2d": [
           {
            "colorbar": {
             "outlinewidth": 0,
             "ticks": ""
            },
            "colorscale": [
             [
              0,
              "#0d0887"
             ],
             [
              0.1111111111111111,
              "#46039f"
             ],
             [
              0.2222222222222222,
              "#7201a8"
             ],
             [
              0.3333333333333333,
              "#9c179e"
             ],
             [
              0.4444444444444444,
              "#bd3786"
             ],
             [
              0.5555555555555556,
              "#d8576b"
             ],
             [
              0.6666666666666666,
              "#ed7953"
             ],
             [
              0.7777777777777778,
              "#fb9f3a"
             ],
             [
              0.8888888888888888,
              "#fdca26"
             ],
             [
              1,
              "#f0f921"
             ]
            ],
            "type": "histogram2d"
           }
          ],
          "histogram2dcontour": [
           {
            "colorbar": {
             "outlinewidth": 0,
             "ticks": ""
            },
            "colorscale": [
             [
              0,
              "#0d0887"
             ],
             [
              0.1111111111111111,
              "#46039f"
             ],
             [
              0.2222222222222222,
              "#7201a8"
             ],
             [
              0.3333333333333333,
              "#9c179e"
             ],
             [
              0.4444444444444444,
              "#bd3786"
             ],
             [
              0.5555555555555556,
              "#d8576b"
             ],
             [
              0.6666666666666666,
              "#ed7953"
             ],
             [
              0.7777777777777778,
              "#fb9f3a"
             ],
             [
              0.8888888888888888,
              "#fdca26"
             ],
             [
              1,
              "#f0f921"
             ]
            ],
            "type": "histogram2dcontour"
           }
          ],
          "mesh3d": [
           {
            "colorbar": {
             "outlinewidth": 0,
             "ticks": ""
            },
            "type": "mesh3d"
           }
          ],
          "parcoords": [
           {
            "line": {
             "colorbar": {
              "outlinewidth": 0,
              "ticks": ""
             }
            },
            "type": "parcoords"
           }
          ],
          "pie": [
           {
            "automargin": true,
            "type": "pie"
           }
          ],
          "scatter": [
           {
            "fillpattern": {
             "fillmode": "overlay",
             "size": 10,
             "solidity": 0.2
            },
            "type": "scatter"
           }
          ],
          "scatter3d": [
           {
            "line": {
             "colorbar": {
              "outlinewidth": 0,
              "ticks": ""
             }
            },
            "marker": {
             "colorbar": {
              "outlinewidth": 0,
              "ticks": ""
             }
            },
            "type": "scatter3d"
           }
          ],
          "scattercarpet": [
           {
            "marker": {
             "colorbar": {
              "outlinewidth": 0,
              "ticks": ""
             }
            },
            "type": "scattercarpet"
           }
          ],
          "scattergeo": [
           {
            "marker": {
             "colorbar": {
              "outlinewidth": 0,
              "ticks": ""
             }
            },
            "type": "scattergeo"
           }
          ],
          "scattergl": [
           {
            "marker": {
             "colorbar": {
              "outlinewidth": 0,
              "ticks": ""
             }
            },
            "type": "scattergl"
           }
          ],
          "scattermapbox": [
           {
            "marker": {
             "colorbar": {
              "outlinewidth": 0,
              "ticks": ""
             }
            },
            "type": "scattermapbox"
           }
          ],
          "scatterpolar": [
           {
            "marker": {
             "colorbar": {
              "outlinewidth": 0,
              "ticks": ""
             }
            },
            "type": "scatterpolar"
           }
          ],
          "scatterpolargl": [
           {
            "marker": {
             "colorbar": {
              "outlinewidth": 0,
              "ticks": ""
             }
            },
            "type": "scatterpolargl"
           }
          ],
          "scatterternary": [
           {
            "marker": {
             "colorbar": {
              "outlinewidth": 0,
              "ticks": ""
             }
            },
            "type": "scatterternary"
           }
          ],
          "surface": [
           {
            "colorbar": {
             "outlinewidth": 0,
             "ticks": ""
            },
            "colorscale": [
             [
              0,
              "#0d0887"
             ],
             [
              0.1111111111111111,
              "#46039f"
             ],
             [
              0.2222222222222222,
              "#7201a8"
             ],
             [
              0.3333333333333333,
              "#9c179e"
             ],
             [
              0.4444444444444444,
              "#bd3786"
             ],
             [
              0.5555555555555556,
              "#d8576b"
             ],
             [
              0.6666666666666666,
              "#ed7953"
             ],
             [
              0.7777777777777778,
              "#fb9f3a"
             ],
             [
              0.8888888888888888,
              "#fdca26"
             ],
             [
              1,
              "#f0f921"
             ]
            ],
            "type": "surface"
           }
          ],
          "table": [
           {
            "cells": {
             "fill": {
              "color": "#EBF0F8"
             },
             "line": {
              "color": "white"
             }
            },
            "header": {
             "fill": {
              "color": "#C8D4E3"
             },
             "line": {
              "color": "white"
             }
            },
            "type": "table"
           }
          ]
         },
         "layout": {
          "annotationdefaults": {
           "arrowcolor": "#2a3f5f",
           "arrowhead": 0,
           "arrowwidth": 1
          },
          "autotypenumbers": "strict",
          "coloraxis": {
           "colorbar": {
            "outlinewidth": 0,
            "ticks": ""
           }
          },
          "colorscale": {
           "diverging": [
            [
             0,
             "#8e0152"
            ],
            [
             0.1,
             "#c51b7d"
            ],
            [
             0.2,
             "#de77ae"
            ],
            [
             0.3,
             "#f1b6da"
            ],
            [
             0.4,
             "#fde0ef"
            ],
            [
             0.5,
             "#f7f7f7"
            ],
            [
             0.6,
             "#e6f5d0"
            ],
            [
             0.7,
             "#b8e186"
            ],
            [
             0.8,
             "#7fbc41"
            ],
            [
             0.9,
             "#4d9221"
            ],
            [
             1,
             "#276419"
            ]
           ],
           "sequential": [
            [
             0,
             "#0d0887"
            ],
            [
             0.1111111111111111,
             "#46039f"
            ],
            [
             0.2222222222222222,
             "#7201a8"
            ],
            [
             0.3333333333333333,
             "#9c179e"
            ],
            [
             0.4444444444444444,
             "#bd3786"
            ],
            [
             0.5555555555555556,
             "#d8576b"
            ],
            [
             0.6666666666666666,
             "#ed7953"
            ],
            [
             0.7777777777777778,
             "#fb9f3a"
            ],
            [
             0.8888888888888888,
             "#fdca26"
            ],
            [
             1,
             "#f0f921"
            ]
           ],
           "sequentialminus": [
            [
             0,
             "#0d0887"
            ],
            [
             0.1111111111111111,
             "#46039f"
            ],
            [
             0.2222222222222222,
             "#7201a8"
            ],
            [
             0.3333333333333333,
             "#9c179e"
            ],
            [
             0.4444444444444444,
             "#bd3786"
            ],
            [
             0.5555555555555556,
             "#d8576b"
            ],
            [
             0.6666666666666666,
             "#ed7953"
            ],
            [
             0.7777777777777778,
             "#fb9f3a"
            ],
            [
             0.8888888888888888,
             "#fdca26"
            ],
            [
             1,
             "#f0f921"
            ]
           ]
          },
          "colorway": [
           "#636efa",
           "#EF553B",
           "#00cc96",
           "#ab63fa",
           "#FFA15A",
           "#19d3f3",
           "#FF6692",
           "#B6E880",
           "#FF97FF",
           "#FECB52"
          ],
          "font": {
           "color": "#2a3f5f"
          },
          "geo": {
           "bgcolor": "white",
           "lakecolor": "white",
           "landcolor": "#E5ECF6",
           "showlakes": true,
           "showland": true,
           "subunitcolor": "white"
          },
          "hoverlabel": {
           "align": "left"
          },
          "hovermode": "closest",
          "mapbox": {
           "style": "light"
          },
          "paper_bgcolor": "white",
          "plot_bgcolor": "#E5ECF6",
          "polar": {
           "angularaxis": {
            "gridcolor": "white",
            "linecolor": "white",
            "ticks": ""
           },
           "bgcolor": "#E5ECF6",
           "radialaxis": {
            "gridcolor": "white",
            "linecolor": "white",
            "ticks": ""
           }
          },
          "scene": {
           "xaxis": {
            "backgroundcolor": "#E5ECF6",
            "gridcolor": "white",
            "gridwidth": 2,
            "linecolor": "white",
            "showbackground": true,
            "ticks": "",
            "zerolinecolor": "white"
           },
           "yaxis": {
            "backgroundcolor": "#E5ECF6",
            "gridcolor": "white",
            "gridwidth": 2,
            "linecolor": "white",
            "showbackground": true,
            "ticks": "",
            "zerolinecolor": "white"
           },
           "zaxis": {
            "backgroundcolor": "#E5ECF6",
            "gridcolor": "white",
            "gridwidth": 2,
            "linecolor": "white",
            "showbackground": true,
            "ticks": "",
            "zerolinecolor": "white"
           }
          },
          "shapedefaults": {
           "line": {
            "color": "#2a3f5f"
           }
          },
          "ternary": {
           "aaxis": {
            "gridcolor": "white",
            "linecolor": "white",
            "ticks": ""
           },
           "baxis": {
            "gridcolor": "white",
            "linecolor": "white",
            "ticks": ""
           },
           "bgcolor": "#E5ECF6",
           "caxis": {
            "gridcolor": "white",
            "linecolor": "white",
            "ticks": ""
           }
          },
          "title": {
           "x": 0.05
          },
          "xaxis": {
           "automargin": true,
           "gridcolor": "white",
           "linecolor": "white",
           "ticks": "",
           "title": {
            "standoff": 15
           },
           "zerolinecolor": "white",
           "zerolinewidth": 2
          },
          "yaxis": {
           "automargin": true,
           "gridcolor": "white",
           "linecolor": "white",
           "ticks": "",
           "title": {
            "standoff": 15
           },
           "zerolinecolor": "white",
           "zerolinewidth": 2
          }
         }
        },
        "title": {
         "text": "Accumulated Number of Approved H1-B Applications Across State in Year 2022"
        }
       }
      },
      "text/html": [
       "<div>                            <div id=\"cfe0f291-e789-4e68-bf08-042fad4b4035\" class=\"plotly-graph-div\" style=\"height:525px; width:100%;\"></div>            <script type=\"text/javascript\">                require([\"plotly\"], function(Plotly) {                    window.PLOTLYENV=window.PLOTLYENV || {};                                    if (document.getElementById(\"cfe0f291-e789-4e68-bf08-042fad4b4035\")) {                    Plotly.newPlot(                        \"cfe0f291-e789-4e68-bf08-042fad4b4035\",                        [{\"coloraxis\":\"coloraxis\",\"geo\":\"geo\",\"hovertemplate\":\"State=%{location}<br>AP=%{z}<extra></extra>\",\"locationmode\":\"USA-states\",\"locations\":[\"AK\",\"AL\",\"AP\",\"AR\",\"AZ\",\"CA\",\"CO\",\"CT\",\"DC\",\"DE\",\"FL\",\"GA\",\"GU\",\"HI\",\"IA\",\"ID\",\"IL\",\"IN\",\"KS\",\"KY\",\"LA\",\"MA\",\"MD\",\"ME\",\"MI\",\"MN\",\"MO\",\"MP\",\"MS\",\"MT\",\"NC\",\"ND\",\"NE\",\"NH\",\"NJ\",\"NM\",\"NV\",\"NY\",\"OH\",\"OK\",\"OR\",\"PA\",\"PR\",\"RI\",\"SC\",\"SD\",\"TN\",\"TX\",\"UT\",\"VA\",\"VI\",\"VT\",\"WA\",\"WI\",\"WV\",\"WY\"],\"name\":\"\",\"z\":[54,911,1,2653,5558,79023,2138,2713,1096,1238,8032,6970,300,119,1116,535,16656,2101,856,868,709,14689,11375,274,10293,3831,2919,18,230,95,7625,164,1142,505,27316,496,578,23516,4339,631,1167,12979,30,1449,1089,583,3414,30173,1323,18340,15,177,18268,2542,162,50],\"type\":\"choropleth\"}],                        {\"template\":{\"data\":{\"histogram2dcontour\":[{\"type\":\"histogram2dcontour\",\"colorbar\":{\"outlinewidth\":0,\"ticks\":\"\"},\"colorscale\":[[0.0,\"#0d0887\"],[0.1111111111111111,\"#46039f\"],[0.2222222222222222,\"#7201a8\"],[0.3333333333333333,\"#9c179e\"],[0.4444444444444444,\"#bd3786\"],[0.5555555555555556,\"#d8576b\"],[0.6666666666666666,\"#ed7953\"],[0.7777777777777778,\"#fb9f3a\"],[0.8888888888888888,\"#fdca26\"],[1.0,\"#f0f921\"]]}],\"choropleth\":[{\"type\":\"choropleth\",\"colorbar\":{\"outlinewidth\":0,\"ticks\":\"\"}}],\"histogram2d\":[{\"type\":\"histogram2d\",\"colorbar\":{\"outlinewidth\":0,\"ticks\":\"\"},\"colorscale\":[[0.0,\"#0d0887\"],[0.1111111111111111,\"#46039f\"],[0.2222222222222222,\"#7201a8\"],[0.3333333333333333,\"#9c179e\"],[0.4444444444444444,\"#bd3786\"],[0.5555555555555556,\"#d8576b\"],[0.6666666666666666,\"#ed7953\"],[0.7777777777777778,\"#fb9f3a\"],[0.8888888888888888,\"#fdca26\"],[1.0,\"#f0f921\"]]}],\"heatmap\":[{\"type\":\"heatmap\",\"colorbar\":{\"outlinewidth\":0,\"ticks\":\"\"},\"colorscale\":[[0.0,\"#0d0887\"],[0.1111111111111111,\"#46039f\"],[0.2222222222222222,\"#7201a8\"],[0.3333333333333333,\"#9c179e\"],[0.4444444444444444,\"#bd3786\"],[0.5555555555555556,\"#d8576b\"],[0.6666666666666666,\"#ed7953\"],[0.7777777777777778,\"#fb9f3a\"],[0.8888888888888888,\"#fdca26\"],[1.0,\"#f0f921\"]]}],\"heatmapgl\":[{\"type\":\"heatmapgl\",\"colorbar\":{\"outlinewidth\":0,\"ticks\":\"\"},\"colorscale\":[[0.0,\"#0d0887\"],[0.1111111111111111,\"#46039f\"],[0.2222222222222222,\"#7201a8\"],[0.3333333333333333,\"#9c179e\"],[0.4444444444444444,\"#bd3786\"],[0.5555555555555556,\"#d8576b\"],[0.6666666666666666,\"#ed7953\"],[0.7777777777777778,\"#fb9f3a\"],[0.8888888888888888,\"#fdca26\"],[1.0,\"#f0f921\"]]}],\"contourcarpet\":[{\"type\":\"contourcarpet\",\"colorbar\":{\"outlinewidth\":0,\"ticks\":\"\"}}],\"contour\":[{\"type\":\"contour\",\"colorbar\":{\"outlinewidth\":0,\"ticks\":\"\"},\"colorscale\":[[0.0,\"#0d0887\"],[0.1111111111111111,\"#46039f\"],[0.2222222222222222,\"#7201a8\"],[0.3333333333333333,\"#9c179e\"],[0.4444444444444444,\"#bd3786\"],[0.5555555555555556,\"#d8576b\"],[0.6666666666666666,\"#ed7953\"],[0.7777777777777778,\"#fb9f3a\"],[0.8888888888888888,\"#fdca26\"],[1.0,\"#f0f921\"]]}],\"surface\":[{\"type\":\"surface\",\"colorbar\":{\"outlinewidth\":0,\"ticks\":\"\"},\"colorscale\":[[0.0,\"#0d0887\"],[0.1111111111111111,\"#46039f\"],[0.2222222222222222,\"#7201a8\"],[0.3333333333333333,\"#9c179e\"],[0.4444444444444444,\"#bd3786\"],[0.5555555555555556,\"#d8576b\"],[0.6666666666666666,\"#ed7953\"],[0.7777777777777778,\"#fb9f3a\"],[0.8888888888888888,\"#fdca26\"],[1.0,\"#f0f921\"]]}],\"mesh3d\":[{\"type\":\"mesh3d\",\"colorbar\":{\"outlinewidth\":0,\"ticks\":\"\"}}],\"scatter\":[{\"fillpattern\":{\"fillmode\":\"overlay\",\"size\":10,\"solidity\":0.2},\"type\":\"scatter\"}],\"parcoords\":[{\"type\":\"parcoords\",\"line\":{\"colorbar\":{\"outlinewidth\":0,\"ticks\":\"\"}}}],\"scatterpolargl\":[{\"type\":\"scatterpolargl\",\"marker\":{\"colorbar\":{\"outlinewidth\":0,\"ticks\":\"\"}}}],\"bar\":[{\"error_x\":{\"color\":\"#2a3f5f\"},\"error_y\":{\"color\":\"#2a3f5f\"},\"marker\":{\"line\":{\"color\":\"#E5ECF6\",\"width\":0.5},\"pattern\":{\"fillmode\":\"overlay\",\"size\":10,\"solidity\":0.2}},\"type\":\"bar\"}],\"scattergeo\":[{\"type\":\"scattergeo\",\"marker\":{\"colorbar\":{\"outlinewidth\":0,\"ticks\":\"\"}}}],\"scatterpolar\":[{\"type\":\"scatterpolar\",\"marker\":{\"colorbar\":{\"outlinewidth\":0,\"ticks\":\"\"}}}],\"histogram\":[{\"marker\":{\"pattern\":{\"fillmode\":\"overlay\",\"size\":10,\"solidity\":0.2}},\"type\":\"histogram\"}],\"scattergl\":[{\"type\":\"scattergl\",\"marker\":{\"colorbar\":{\"outlinewidth\":0,\"ticks\":\"\"}}}],\"scatter3d\":[{\"type\":\"scatter3d\",\"line\":{\"colorbar\":{\"outlinewidth\":0,\"ticks\":\"\"}},\"marker\":{\"colorbar\":{\"outlinewidth\":0,\"ticks\":\"\"}}}],\"scattermapbox\":[{\"type\":\"scattermapbox\",\"marker\":{\"colorbar\":{\"outlinewidth\":0,\"ticks\":\"\"}}}],\"scatterternary\":[{\"type\":\"scatterternary\",\"marker\":{\"colorbar\":{\"outlinewidth\":0,\"ticks\":\"\"}}}],\"scattercarpet\":[{\"type\":\"scattercarpet\",\"marker\":{\"colorbar\":{\"outlinewidth\":0,\"ticks\":\"\"}}}],\"carpet\":[{\"aaxis\":{\"endlinecolor\":\"#2a3f5f\",\"gridcolor\":\"white\",\"linecolor\":\"white\",\"minorgridcolor\":\"white\",\"startlinecolor\":\"#2a3f5f\"},\"baxis\":{\"endlinecolor\":\"#2a3f5f\",\"gridcolor\":\"white\",\"linecolor\":\"white\",\"minorgridcolor\":\"white\",\"startlinecolor\":\"#2a3f5f\"},\"type\":\"carpet\"}],\"table\":[{\"cells\":{\"fill\":{\"color\":\"#EBF0F8\"},\"line\":{\"color\":\"white\"}},\"header\":{\"fill\":{\"color\":\"#C8D4E3\"},\"line\":{\"color\":\"white\"}},\"type\":\"table\"}],\"barpolar\":[{\"marker\":{\"line\":{\"color\":\"#E5ECF6\",\"width\":0.5},\"pattern\":{\"fillmode\":\"overlay\",\"size\":10,\"solidity\":0.2}},\"type\":\"barpolar\"}],\"pie\":[{\"automargin\":true,\"type\":\"pie\"}]},\"layout\":{\"autotypenumbers\":\"strict\",\"colorway\":[\"#636efa\",\"#EF553B\",\"#00cc96\",\"#ab63fa\",\"#FFA15A\",\"#19d3f3\",\"#FF6692\",\"#B6E880\",\"#FF97FF\",\"#FECB52\"],\"font\":{\"color\":\"#2a3f5f\"},\"hovermode\":\"closest\",\"hoverlabel\":{\"align\":\"left\"},\"paper_bgcolor\":\"white\",\"plot_bgcolor\":\"#E5ECF6\",\"polar\":{\"bgcolor\":\"#E5ECF6\",\"angularaxis\":{\"gridcolor\":\"white\",\"linecolor\":\"white\",\"ticks\":\"\"},\"radialaxis\":{\"gridcolor\":\"white\",\"linecolor\":\"white\",\"ticks\":\"\"}},\"ternary\":{\"bgcolor\":\"#E5ECF6\",\"aaxis\":{\"gridcolor\":\"white\",\"linecolor\":\"white\",\"ticks\":\"\"},\"baxis\":{\"gridcolor\":\"white\",\"linecolor\":\"white\",\"ticks\":\"\"},\"caxis\":{\"gridcolor\":\"white\",\"linecolor\":\"white\",\"ticks\":\"\"}},\"coloraxis\":{\"colorbar\":{\"outlinewidth\":0,\"ticks\":\"\"}},\"colorscale\":{\"sequential\":[[0.0,\"#0d0887\"],[0.1111111111111111,\"#46039f\"],[0.2222222222222222,\"#7201a8\"],[0.3333333333333333,\"#9c179e\"],[0.4444444444444444,\"#bd3786\"],[0.5555555555555556,\"#d8576b\"],[0.6666666666666666,\"#ed7953\"],[0.7777777777777778,\"#fb9f3a\"],[0.8888888888888888,\"#fdca26\"],[1.0,\"#f0f921\"]],\"sequentialminus\":[[0.0,\"#0d0887\"],[0.1111111111111111,\"#46039f\"],[0.2222222222222222,\"#7201a8\"],[0.3333333333333333,\"#9c179e\"],[0.4444444444444444,\"#bd3786\"],[0.5555555555555556,\"#d8576b\"],[0.6666666666666666,\"#ed7953\"],[0.7777777777777778,\"#fb9f3a\"],[0.8888888888888888,\"#fdca26\"],[1.0,\"#f0f921\"]],\"diverging\":[[0,\"#8e0152\"],[0.1,\"#c51b7d\"],[0.2,\"#de77ae\"],[0.3,\"#f1b6da\"],[0.4,\"#fde0ef\"],[0.5,\"#f7f7f7\"],[0.6,\"#e6f5d0\"],[0.7,\"#b8e186\"],[0.8,\"#7fbc41\"],[0.9,\"#4d9221\"],[1,\"#276419\"]]},\"xaxis\":{\"gridcolor\":\"white\",\"linecolor\":\"white\",\"ticks\":\"\",\"title\":{\"standoff\":15},\"zerolinecolor\":\"white\",\"automargin\":true,\"zerolinewidth\":2},\"yaxis\":{\"gridcolor\":\"white\",\"linecolor\":\"white\",\"ticks\":\"\",\"title\":{\"standoff\":15},\"zerolinecolor\":\"white\",\"automargin\":true,\"zerolinewidth\":2},\"scene\":{\"xaxis\":{\"backgroundcolor\":\"#E5ECF6\",\"gridcolor\":\"white\",\"linecolor\":\"white\",\"showbackground\":true,\"ticks\":\"\",\"zerolinecolor\":\"white\",\"gridwidth\":2},\"yaxis\":{\"backgroundcolor\":\"#E5ECF6\",\"gridcolor\":\"white\",\"linecolor\":\"white\",\"showbackground\":true,\"ticks\":\"\",\"zerolinecolor\":\"white\",\"gridwidth\":2},\"zaxis\":{\"backgroundcolor\":\"#E5ECF6\",\"gridcolor\":\"white\",\"linecolor\":\"white\",\"showbackground\":true,\"ticks\":\"\",\"zerolinecolor\":\"white\",\"gridwidth\":2}},\"shapedefaults\":{\"line\":{\"color\":\"#2a3f5f\"}},\"annotationdefaults\":{\"arrowcolor\":\"#2a3f5f\",\"arrowhead\":0,\"arrowwidth\":1},\"geo\":{\"bgcolor\":\"white\",\"landcolor\":\"#E5ECF6\",\"subunitcolor\":\"white\",\"showland\":true,\"showlakes\":true,\"lakecolor\":\"white\"},\"title\":{\"x\":0.05},\"mapbox\":{\"style\":\"light\"}}},\"geo\":{\"domain\":{\"x\":[0.0,1.0],\"y\":[0.0,1.0]},\"center\":{},\"scope\":\"usa\"},\"coloraxis\":{\"colorbar\":{\"title\":{\"text\":\"Approved Petitions\"}},\"colorscale\":[[0.0,\"#fde725\"],[0.1111111111111111,\"#b5de2b\"],[0.2222222222222222,\"#6ece58\"],[0.3333333333333333,\"#35b779\"],[0.4444444444444444,\"#1f9e89\"],[0.5555555555555556,\"#26828e\"],[0.6666666666666666,\"#31688e\"],[0.7777777777777778,\"#3e4989\"],[0.8888888888888888,\"#482878\"],[1.0,\"#440154\"]]},\"legend\":{\"tracegroupgap\":0},\"margin\":{\"t\":60},\"title\":{\"text\":\"Accumulated Number of Approved H1-B Applications Across State in Year 2022\"}},                        {\"responsive\": true}                    ).then(function(){\n",
       "                            \n",
       "var gd = document.getElementById('cfe0f291-e789-4e68-bf08-042fad4b4035');\n",
       "var x = new MutationObserver(function (mutations, observer) {{\n",
       "        var display = window.getComputedStyle(gd).display;\n",
       "        if (!display || display === 'none') {{\n",
       "            console.log([gd, 'removed!']);\n",
       "            Plotly.purge(gd);\n",
       "            observer.disconnect();\n",
       "        }}\n",
       "}});\n",
       "\n",
       "// Listen for the removal of the full notebook cells\n",
       "var notebookContainer = gd.closest('#notebook-container');\n",
       "if (notebookContainer) {{\n",
       "    x.observe(notebookContainer, {childList: true});\n",
       "}}\n",
       "\n",
       "// Listen for the clearing of the current output cell\n",
       "var outputEl = gd.closest('.output');\n",
       "if (outputEl) {{\n",
       "    x.observe(outputEl, {childList: true});\n",
       "}}\n",
       "\n",
       "                        })                };                });            </script>        </div>"
      ]
     },
     "metadata": {},
     "output_type": "display_data"
    }
   ],
   "source": [
    "import plotly.express as px\n",
    "\n",
    "fig = px.choropleth(total_approved_by_state, \n",
    "                   locations='State', \n",
    "                   locationmode=\"USA-states\", \n",
    "                   scope=\"usa\", \n",
    "                   color=\"AP\",\n",
    "                   color_continuous_scale=\"Viridis_r\")\n",
    "fig.update_layout(\n",
    "    title=f'Accumulated Number of Approved H1-B Applications Across State in Year {Year}',\n",
    "    coloraxis_colorbar_title_text=\"Approved Petitions\"\n",
    "    \n",
    ")\n",
    "fig.show()"
   ]
  },
  {
   "cell_type": "markdown",
   "metadata": {},
   "source": [
    "**Observation:<br>\n",
    "In 2022, if we look at the distribution of approved applications by State, we see a similar picture from the last decade with states like California, Texas, and New Jersey etc.. capturing a significant share. 2022 has seen a decline in total petitions as we saw earlier & in fact the decline in approved applications has dropped by a whopping 30% from last year!**"
   ]
  },
  {
   "cell_type": "markdown",
   "metadata": {},
   "source": [
    "#### Q2:  Let's explore the industries wtih most approved applications. How has the picture changed in 2022, if any, from recent years? What percentage of approved applications comes from top 4 industries?"
   ]
  },
  {
   "cell_type": "code",
   "execution_count": 122,
   "metadata": {},
   "outputs": [],
   "source": [
    "Num_Industries = h1b_2022['NAICS'].unique().size\n",
    "Total_petitions_approved = h1b_2022['AP'].sum()"
   ]
  },
  {
   "cell_type": "code",
   "execution_count": 123,
   "metadata": {},
   "outputs": [
    {
     "data": {
      "text/plain": [
       "NAICS\n",
       "Professional, Scientific, and Technical Services    44.201715\n",
       "Manufacturing                                       11.542016\n",
       "Information                                         10.686434\n",
       "Finance and Insurance                                9.328830\n",
       "Retail Trade                                         7.648371\n",
       "Name: AP, dtype: float64"
      ]
     },
     "execution_count": 123,
     "metadata": {},
     "output_type": "execute_result"
    }
   ],
   "source": [
    "# Group by industries & sum their approved applications\n",
    "approved_by_industry = h1b_2022.groupby(by='NAICS')['AP'].sum().nlargest(Num_Industries)\n",
    "approved_by_industry_percent = (approved_by_industry / Total_petitions_approved) * 100\n",
    "approved_by_industry_percent.iloc[:5]"
   ]
  },
  {
   "cell_type": "code",
   "execution_count": 124,
   "metadata": {},
   "outputs": [
    {
     "data": {
      "image/png": "[encoded data removed]",
      "text/plain": [
       "<Figure size 1008x576 with 1 Axes>"
      ]
     },
     "metadata": {
      "needs_background": "light"
     },
     "output_type": "display_data"
    }
   ],
   "source": [
    "num_industries_show = 10\n",
    "sns.barplot(x=approved_by_industry_percent.values[:num_industries_show], y=approved_by_industry_percent.index[:num_industries_show])\n",
    "plt.title(f\"Percentage of Petitions Getting Approved Broken Down by Industry {Year}\");\n",
    "plt.ylabel(\"\");"
   ]
  },
  {
   "cell_type": "code",
   "execution_count": 125,
   "metadata": {},
   "outputs": [
    {
     "name": "stdout",
     "output_type": "stream",
     "text": [
      "Top 4 industries capture(s) 75.76% of all applications filed\n"
     ]
    }
   ],
   "source": [
    "top4_industries = 4\n",
    "top4_percent = approved_by_industry_percent.iloc[:top4_industries].sum()\n",
    "print(f\"Top {top4_industries} industries capture(s) {round(top4_percent, 2)}% of all applications filed\")"
   ]
  },
  {
   "cell_type": "markdown",
   "metadata": {},
   "source": [
    "**Observation:<br>\n",
    "The picture is the same if we break it down by industry with the top four industries capturing 75.76%.**"
   ]
  },
  {
   "cell_type": "markdown",
   "metadata": {},
   "source": [
    "#### Q3: I am interested in living in CA, TX, and NY. So, let's zoom in a bit to look at the top cities in those states."
   ]
  },
  {
   "cell_type": "code",
   "execution_count": 126,
   "metadata": {},
   "outputs": [],
   "source": [
    "states = np.array(['CA', 'TX', 'NY']) "
   ]
  },
  {
   "cell_type": "code",
   "execution_count": 127,
   "metadata": {},
   "outputs": [],
   "source": [
    "num_cities = 20\n",
    "top_cities = h1b_2022[h1b_2022['State'].isin(states)].groupby(['State', 'City'])['AP'].sum().nlargest(num_cities)"
   ]
  },
  {
   "cell_type": "code",
   "execution_count": 128,
   "metadata": {},
   "outputs": [],
   "source": [
    "cities = [city for _, city in top_cities.index]"
   ]
  },
  {
   "cell_type": "code",
   "execution_count": 129,
   "metadata": {},
   "outputs": [
    {
     "data": {
      "image/png": "[encoded data removed]",
      "text/plain": [
       "<Figure size 1008x576 with 1 Axes>"
      ]
     },
     "metadata": {
      "needs_background": "light"
     },
     "output_type": "display_data"
    }
   ],
   "source": [
    "sns.barplot(x=top_cities.values/1000, y=cities)\n",
    "plt.title(f\"Cities in {','.join(states)} with most approved applications in {Year}\")\n",
    "plt.xlabel(\"Approved Applications in Thousands\")\n",
    "plt.ylabel(\"Cities in U.S.A\");"
   ]
  },
  {
   "cell_type": "markdown",
   "metadata": {},
   "source": [
    "**Observation: The top cities for H-1B petitions applicants haven't really changed much as these popular cities continue to attract most applicants although there have been some changes in the order of the cities.**"
   ]
  },
  {
   "cell_type": "markdown",
   "metadata": {},
   "source": [
    "#### Q4: In these top cities that I am interested in the states mentioned above, I am mostly interested in STEM jobs. So, let's see the top 30 employers"
   ]
  },
  {
   "cell_type": "code",
   "execution_count": 131,
   "metadata": {
    "scrolled": true
   },
   "outputs": [
    {
     "data": {
      "text/html": [
       "<div>\n",
       "<style scoped>\n",
       "    .dataframe tbody tr th:only-of-type {\n",
       "        vertical-align: middle;\n",
       "    }\n",
       "\n",
       "    .dataframe tbody tr th {\n",
       "        vertical-align: top;\n",
       "    }\n",
       "\n",
       "    .dataframe thead th {\n",
       "        text-align: right;\n",
       "    }\n",
       "</style>\n",
       "<table border=\"1\" class=\"dataframe\">\n",
       "  <thead>\n",
       "    <tr style=\"text-align: right;\">\n",
       "      <th></th>\n",
       "      <th>City</th>\n",
       "      <th>Employer</th>\n",
       "      <th>AP</th>\n",
       "    </tr>\n",
       "  </thead>\n",
       "  <tbody>\n",
       "    <tr>\n",
       "      <th>0</th>\n",
       "      <td>MOUNTAIN VIEW</td>\n",
       "      <td>GOOGLE LLC</td>\n",
       "      <td>6843</td>\n",
       "    </tr>\n",
       "    <tr>\n",
       "      <th>1</th>\n",
       "      <td>RICHARDSON</td>\n",
       "      <td>INFOSYS LIMITED</td>\n",
       "      <td>3901</td>\n",
       "    </tr>\n",
       "    <tr>\n",
       "      <th>2</th>\n",
       "      <td>COLLEGE STATION</td>\n",
       "      <td>COGNIZANT TECHNOLOGY SOLUTIONS US CORP</td>\n",
       "      <td>3731</td>\n",
       "    </tr>\n",
       "    <tr>\n",
       "      <th>3</th>\n",
       "      <td>SUNNYVALE</td>\n",
       "      <td>HCL AMERICA INC</td>\n",
       "      <td>2019</td>\n",
       "    </tr>\n",
       "    <tr>\n",
       "      <th>4</th>\n",
       "      <td>SAN FRANCISCO</td>\n",
       "      <td>SALESFORCE COM INC</td>\n",
       "      <td>1756</td>\n",
       "    </tr>\n",
       "    <tr>\n",
       "      <th>5</th>\n",
       "      <td>SAN FRANCISCO</td>\n",
       "      <td>UBER TECHNOLOGIES INC</td>\n",
       "      <td>882</td>\n",
       "    </tr>\n",
       "    <tr>\n",
       "      <th>6</th>\n",
       "      <td>PALO ALTO</td>\n",
       "      <td>VMWARE INC</td>\n",
       "      <td>768</td>\n",
       "    </tr>\n",
       "    <tr>\n",
       "      <th>7</th>\n",
       "      <td>NEW YORK</td>\n",
       "      <td>MPHASIS CORPORATION</td>\n",
       "      <td>672</td>\n",
       "    </tr>\n",
       "    <tr>\n",
       "      <th>8</th>\n",
       "      <td>MOUNTAIN VIEW</td>\n",
       "      <td>INTUIT INC</td>\n",
       "      <td>649</td>\n",
       "    </tr>\n",
       "    <tr>\n",
       "      <th>9</th>\n",
       "      <td>NEW YORK</td>\n",
       "      <td>MCKINSEY COMPANY INC UNITED STATES</td>\n",
       "      <td>637</td>\n",
       "    </tr>\n",
       "    <tr>\n",
       "      <th>10</th>\n",
       "      <td>SAN JOSE</td>\n",
       "      <td>ADOBE INC</td>\n",
       "      <td>598</td>\n",
       "    </tr>\n",
       "    <tr>\n",
       "      <th>11</th>\n",
       "      <td>SANTA CLARA</td>\n",
       "      <td>SERVICENOW INC</td>\n",
       "      <td>523</td>\n",
       "    </tr>\n",
       "    <tr>\n",
       "      <th>12</th>\n",
       "      <td>NEW YORK</td>\n",
       "      <td>SYNECHRON INC</td>\n",
       "      <td>374</td>\n",
       "    </tr>\n",
       "    <tr>\n",
       "      <th>13</th>\n",
       "      <td>SAN FRANCISCO</td>\n",
       "      <td>DOORDASH INC</td>\n",
       "      <td>362</td>\n",
       "    </tr>\n",
       "    <tr>\n",
       "      <th>14</th>\n",
       "      <td>SANTA CLARA</td>\n",
       "      <td>PALO ALTO NETWORKS INC</td>\n",
       "      <td>346</td>\n",
       "    </tr>\n",
       "    <tr>\n",
       "      <th>15</th>\n",
       "      <td>DALLAS</td>\n",
       "      <td>KPMG LLP</td>\n",
       "      <td>340</td>\n",
       "    </tr>\n",
       "    <tr>\n",
       "      <th>16</th>\n",
       "      <td>PLANO</td>\n",
       "      <td>NTT DATA INC</td>\n",
       "      <td>329</td>\n",
       "    </tr>\n",
       "    <tr>\n",
       "      <th>17</th>\n",
       "      <td>SAN FRANCISCO</td>\n",
       "      <td>TWITTER INC</td>\n",
       "      <td>281</td>\n",
       "    </tr>\n",
       "    <tr>\n",
       "      <th>18</th>\n",
       "      <td>MOUNTAIN VIEW</td>\n",
       "      <td>SYNOPSYS INC</td>\n",
       "      <td>274</td>\n",
       "    </tr>\n",
       "    <tr>\n",
       "      <th>19</th>\n",
       "      <td>SAN FRANCISCO</td>\n",
       "      <td>TWILIO INC</td>\n",
       "      <td>230</td>\n",
       "    </tr>\n",
       "    <tr>\n",
       "      <th>20</th>\n",
       "      <td>SAN FRANCISCO</td>\n",
       "      <td>LYFT INC</td>\n",
       "      <td>192</td>\n",
       "    </tr>\n",
       "    <tr>\n",
       "      <th>21</th>\n",
       "      <td>SANTA CLARA</td>\n",
       "      <td>HITACHI VANTARA LLC</td>\n",
       "      <td>192</td>\n",
       "    </tr>\n",
       "    <tr>\n",
       "      <th>22</th>\n",
       "      <td>NEW YORK</td>\n",
       "      <td>FIS MANAGEMENT SERVICES LLC</td>\n",
       "      <td>187</td>\n",
       "    </tr>\n",
       "    <tr>\n",
       "      <th>23</th>\n",
       "      <td>SAN FRANCISCO</td>\n",
       "      <td>DOCUSIGN INC</td>\n",
       "      <td>184</td>\n",
       "    </tr>\n",
       "    <tr>\n",
       "      <th>24</th>\n",
       "      <td>PLANO</td>\n",
       "      <td>NTT DATA SERVICES LLC</td>\n",
       "      <td>173</td>\n",
       "    </tr>\n",
       "    <tr>\n",
       "      <th>25</th>\n",
       "      <td>HOUSTON</td>\n",
       "      <td>HEWLETT PACKARD ENTERPRISE COMPANY</td>\n",
       "      <td>158</td>\n",
       "    </tr>\n",
       "    <tr>\n",
       "      <th>26</th>\n",
       "      <td>MOUNTAIN VIEW</td>\n",
       "      <td>ATLASSIAN INC</td>\n",
       "      <td>158</td>\n",
       "    </tr>\n",
       "    <tr>\n",
       "      <th>27</th>\n",
       "      <td>SAN FRANCISCO</td>\n",
       "      <td>DATABRICKS INC</td>\n",
       "      <td>158</td>\n",
       "    </tr>\n",
       "    <tr>\n",
       "      <th>28</th>\n",
       "      <td>NEW YORK</td>\n",
       "      <td>EXLSERVICE COM LLC</td>\n",
       "      <td>155</td>\n",
       "    </tr>\n",
       "    <tr>\n",
       "      <th>29</th>\n",
       "      <td>SAN JOSE</td>\n",
       "      <td>GLOBALLOGIC INC</td>\n",
       "      <td>151</td>\n",
       "    </tr>\n",
       "  </tbody>\n",
       "</table>\n",
       "</div>"
      ],
      "text/plain": [
       "               City                                Employer    AP\n",
       "0     MOUNTAIN VIEW                              GOOGLE LLC  6843\n",
       "1        RICHARDSON                         INFOSYS LIMITED  3901\n",
       "2   COLLEGE STATION  COGNIZANT TECHNOLOGY SOLUTIONS US CORP  3731\n",
       "3         SUNNYVALE                         HCL AMERICA INC  2019\n",
       "4     SAN FRANCISCO                      SALESFORCE COM INC  1756\n",
       "5     SAN FRANCISCO                   UBER TECHNOLOGIES INC   882\n",
       "6         PALO ALTO                              VMWARE INC   768\n",
       "7          NEW YORK                     MPHASIS CORPORATION   672\n",
       "8     MOUNTAIN VIEW                              INTUIT INC   649\n",
       "9          NEW YORK      MCKINSEY COMPANY INC UNITED STATES   637\n",
       "10         SAN JOSE                               ADOBE INC   598\n",
       "11      SANTA CLARA                          SERVICENOW INC   523\n",
       "12         NEW YORK                           SYNECHRON INC   374\n",
       "13    SAN FRANCISCO                            DOORDASH INC   362\n",
       "14      SANTA CLARA                  PALO ALTO NETWORKS INC   346\n",
       "15           DALLAS                                KPMG LLP   340\n",
       "16            PLANO                            NTT DATA INC   329\n",
       "17    SAN FRANCISCO                             TWITTER INC   281\n",
       "18    MOUNTAIN VIEW                            SYNOPSYS INC   274\n",
       "19    SAN FRANCISCO                              TWILIO INC   230\n",
       "20    SAN FRANCISCO                                LYFT INC   192\n",
       "21      SANTA CLARA                     HITACHI VANTARA LLC   192\n",
       "22         NEW YORK             FIS MANAGEMENT SERVICES LLC   187\n",
       "23    SAN FRANCISCO                            DOCUSIGN INC   184\n",
       "24            PLANO                   NTT DATA SERVICES LLC   173\n",
       "25          HOUSTON      HEWLETT PACKARD ENTERPRISE COMPANY   158\n",
       "26    MOUNTAIN VIEW                           ATLASSIAN INC   158\n",
       "27    SAN FRANCISCO                          DATABRICKS INC   158\n",
       "28         NEW YORK                      EXLSERVICE COM LLC   155\n",
       "29         SAN JOSE                         GLOBALLOGIC INC   151"
      ]
     },
     "execution_count": 131,
     "metadata": {},
     "output_type": "execute_result"
    }
   ],
   "source": [
    "h1b_2022_stem = h1b_2022[h1b_2022['City'].isin(cities)]\n",
    "h1b_2022_stem = h1b_2022_stem[h1b_2022_stem['NAICS'] == 'Professional, Scientific, and Technical Services']\n",
    "num_employers = 30\n",
    "city_employers_df = h1b_2022_stem.groupby(['City', 'Employer'])['AP'].sum().nlargest(num_employers).reset_index()\n",
    "city_employers_df"
   ]
  },
  {
   "cell_type": "markdown",
   "metadata": {},
   "source": [
    "**Observation:<br> I see a good amount of tech companies here. Any suprises?**"
   ]
  },
  {
   "cell_type": "markdown",
   "metadata": {},
   "source": [
    "#### Q5: Before I start packing to move to other cities, let me check the employers in my current cities so that I could check their career page for potential software development jobs"
   ]
  },
  {
   "cell_type": "code",
   "execution_count": 132,
   "metadata": {},
   "outputs": [
    {
     "data": {
      "text/html": [
       "<div>\n",
       "<style scoped>\n",
       "    .dataframe tbody tr th:only-of-type {\n",
       "        vertical-align: middle;\n",
       "    }\n",
       "\n",
       "    .dataframe tbody tr th {\n",
       "        vertical-align: top;\n",
       "    }\n",
       "\n",
       "    .dataframe thead th {\n",
       "        text-align: right;\n",
       "    }\n",
       "</style>\n",
       "<table border=\"1\" class=\"dataframe\">\n",
       "  <thead>\n",
       "    <tr style=\"text-align: right;\">\n",
       "      <th></th>\n",
       "      <th>Employer</th>\n",
       "      <th>AP</th>\n",
       "    </tr>\n",
       "  </thead>\n",
       "  <tbody>\n",
       "    <tr>\n",
       "      <th>0</th>\n",
       "      <td>AECOM TECHNICAL SERVICES INC</td>\n",
       "      <td>50</td>\n",
       "    </tr>\n",
       "    <tr>\n",
       "      <th>1</th>\n",
       "      <td>RIOT GAMES INC</td>\n",
       "      <td>38</td>\n",
       "    </tr>\n",
       "    <tr>\n",
       "      <th>2</th>\n",
       "      <td>GIBSON DUNN &amp; CRUTCHER LLP</td>\n",
       "      <td>14</td>\n",
       "    </tr>\n",
       "    <tr>\n",
       "      <th>3</th>\n",
       "      <td>MACIAS GINI &amp; O CONNELL LLP</td>\n",
       "      <td>14</td>\n",
       "    </tr>\n",
       "    <tr>\n",
       "      <th>4</th>\n",
       "      <td>SINGERLEWAK LLP</td>\n",
       "      <td>14</td>\n",
       "    </tr>\n",
       "    <tr>\n",
       "      <th>5</th>\n",
       "      <td>MAGNITE INC</td>\n",
       "      <td>11</td>\n",
       "    </tr>\n",
       "    <tr>\n",
       "      <th>6</th>\n",
       "      <td>VIDEOAMP INC</td>\n",
       "      <td>11</td>\n",
       "    </tr>\n",
       "    <tr>\n",
       "      <th>7</th>\n",
       "      <td>KORN FERRY US</td>\n",
       "      <td>10</td>\n",
       "    </tr>\n",
       "    <tr>\n",
       "      <th>8</th>\n",
       "      <td>TERASAKI INST FOR BIOMEDICAL INNOVATION</td>\n",
       "      <td>9</td>\n",
       "    </tr>\n",
       "    <tr>\n",
       "      <th>9</th>\n",
       "      <td>SHEIN TECHNOLOGY LLC</td>\n",
       "      <td>8</td>\n",
       "    </tr>\n",
       "    <tr>\n",
       "      <th>10</th>\n",
       "      <td>HARLEY ELLIS DEVEREAUX CORPORATION</td>\n",
       "      <td>7</td>\n",
       "    </tr>\n",
       "    <tr>\n",
       "      <th>11</th>\n",
       "      <td>O MELVENY &amp; MYERS LLP</td>\n",
       "      <td>7</td>\n",
       "    </tr>\n",
       "    <tr>\n",
       "      <th>12</th>\n",
       "      <td>PAUL HASTINGS LLP</td>\n",
       "      <td>7</td>\n",
       "    </tr>\n",
       "    <tr>\n",
       "      <th>13</th>\n",
       "      <td>NOWCOM LLC</td>\n",
       "      <td>6</td>\n",
       "    </tr>\n",
       "    <tr>\n",
       "      <th>14</th>\n",
       "      <td>BUCK DESIGN LLC</td>\n",
       "      <td>5</td>\n",
       "    </tr>\n",
       "    <tr>\n",
       "      <th>15</th>\n",
       "      <td>CO ARCHITECTS</td>\n",
       "      <td>5</td>\n",
       "    </tr>\n",
       "    <tr>\n",
       "      <th>16</th>\n",
       "      <td>FIRST CAPITOL CONSULTING INC DBA T</td>\n",
       "      <td>4</td>\n",
       "    </tr>\n",
       "    <tr>\n",
       "      <th>17</th>\n",
       "      <td>HYPERLOOP TECHNOLOGIES INC DBA VIR</td>\n",
       "      <td>4</td>\n",
       "    </tr>\n",
       "    <tr>\n",
       "      <th>18</th>\n",
       "      <td>JAD &amp; ASSOCIATES LLC</td>\n",
       "      <td>4</td>\n",
       "    </tr>\n",
       "    <tr>\n",
       "      <th>19</th>\n",
       "      <td>NABIH YOUSSEF &amp; ASSOCIATES</td>\n",
       "      <td>4</td>\n",
       "    </tr>\n",
       "  </tbody>\n",
       "</table>\n",
       "</div>"
      ],
      "text/plain": [
       "                                   Employer  AP\n",
       "0              AECOM TECHNICAL SERVICES INC  50\n",
       "1                            RIOT GAMES INC  38\n",
       "2                GIBSON DUNN & CRUTCHER LLP  14\n",
       "3               MACIAS GINI & O CONNELL LLP  14\n",
       "4                           SINGERLEWAK LLP  14\n",
       "5                               MAGNITE INC  11\n",
       "6                              VIDEOAMP INC  11\n",
       "7                             KORN FERRY US  10\n",
       "8   TERASAKI INST FOR BIOMEDICAL INNOVATION   9\n",
       "9                      SHEIN TECHNOLOGY LLC   8\n",
       "10       HARLEY ELLIS DEVEREAUX CORPORATION   7\n",
       "11                    O MELVENY & MYERS LLP   7\n",
       "12                        PAUL HASTINGS LLP   7\n",
       "13                               NOWCOM LLC   6\n",
       "14                          BUCK DESIGN LLC   5\n",
       "15                            CO ARCHITECTS   5\n",
       "16       FIRST CAPITOL CONSULTING INC DBA T   4\n",
       "17       HYPERLOOP TECHNOLOGIES INC DBA VIR   4\n",
       "18                     JAD & ASSOCIATES LLC   4\n",
       "19               NABIH YOUSSEF & ASSOCIATES   4"
      ]
     },
     "execution_count": 132,
     "metadata": {},
     "output_type": "execute_result"
    }
   ],
   "source": [
    "current_city = 'LOS ANGELES'\n",
    "num_employers = 20\n",
    "h1b_2022_stem[h1b_2022_stem['City']=='LOS ANGELES'].groupby('Employer')['AP'].sum().nlargest(num_employers).reset_index()"
   ]
  },
  {
   "cell_type": "markdown",
   "metadata": {},
   "source": [
    "**Observation: <br> I don't know much about these companies. I gotta do more research but I suspect they don't have a lot of demand for software developer in particular.**"
   ]
  },
  {
   "cell_type": "markdown",
   "metadata": {},
   "source": [
    "#### Q6: To ensure that I don't go for the wrong employers, let's see which employers in STEM field at these cities has mostly have their H1-B petitions denied. How bad are the numbers?"
   ]
  },
  {
   "cell_type": "code",
   "execution_count": 133,
   "metadata": {},
   "outputs": [
    {
     "data": {
      "text/html": [
       "<div>\n",
       "<style scoped>\n",
       "    .dataframe tbody tr th:only-of-type {\n",
       "        vertical-align: middle;\n",
       "    }\n",
       "\n",
       "    .dataframe tbody tr th {\n",
       "        vertical-align: top;\n",
       "    }\n",
       "\n",
       "    .dataframe thead th {\n",
       "        text-align: right;\n",
       "    }\n",
       "</style>\n",
       "<table border=\"1\" class=\"dataframe\">\n",
       "  <thead>\n",
       "    <tr style=\"text-align: right;\">\n",
       "      <th></th>\n",
       "      <th>City</th>\n",
       "      <th>Employer</th>\n",
       "      <th>DP</th>\n",
       "    </tr>\n",
       "  </thead>\n",
       "  <tbody>\n",
       "    <tr>\n",
       "      <th>0</th>\n",
       "      <td>MOUNTAIN VIEW</td>\n",
       "      <td>GOOGLE LLC</td>\n",
       "      <td>67</td>\n",
       "    </tr>\n",
       "    <tr>\n",
       "      <th>1</th>\n",
       "      <td>SUNNYVALE</td>\n",
       "      <td>HCL AMERICA INC</td>\n",
       "      <td>64</td>\n",
       "    </tr>\n",
       "    <tr>\n",
       "      <th>2</th>\n",
       "      <td>COLLEGE STATION</td>\n",
       "      <td>COGNIZANT TECHNOLOGY SOLUTIONS US CORP</td>\n",
       "      <td>51</td>\n",
       "    </tr>\n",
       "    <tr>\n",
       "      <th>3</th>\n",
       "      <td>RICHARDSON</td>\n",
       "      <td>INFOSYS LIMITED</td>\n",
       "      <td>50</td>\n",
       "    </tr>\n",
       "    <tr>\n",
       "      <th>4</th>\n",
       "      <td>NEW YORK</td>\n",
       "      <td>MCKINSEY COMPANY INC UNITED STATES</td>\n",
       "      <td>14</td>\n",
       "    </tr>\n",
       "    <tr>\n",
       "      <th>5</th>\n",
       "      <td>SAN FRANCISCO</td>\n",
       "      <td>UBER TECHNOLOGIES INC</td>\n",
       "      <td>14</td>\n",
       "    </tr>\n",
       "    <tr>\n",
       "      <th>6</th>\n",
       "      <td>SAN FRANCISCO</td>\n",
       "      <td>SALESFORCE COM INC</td>\n",
       "      <td>13</td>\n",
       "    </tr>\n",
       "    <tr>\n",
       "      <th>7</th>\n",
       "      <td>SAN JOSE</td>\n",
       "      <td>ADOBE INC</td>\n",
       "      <td>12</td>\n",
       "    </tr>\n",
       "    <tr>\n",
       "      <th>8</th>\n",
       "      <td>PALO ALTO</td>\n",
       "      <td>VMWARE INC</td>\n",
       "      <td>11</td>\n",
       "    </tr>\n",
       "    <tr>\n",
       "      <th>9</th>\n",
       "      <td>IRVING</td>\n",
       "      <td>SCOTTLINE LLC</td>\n",
       "      <td>10</td>\n",
       "    </tr>\n",
       "    <tr>\n",
       "      <th>10</th>\n",
       "      <td>MOUNTAIN VIEW</td>\n",
       "      <td>SYNOPSYS INC</td>\n",
       "      <td>10</td>\n",
       "    </tr>\n",
       "    <tr>\n",
       "      <th>11</th>\n",
       "      <td>SAN DIEGO</td>\n",
       "      <td>VASTEK INC</td>\n",
       "      <td>9</td>\n",
       "    </tr>\n",
       "    <tr>\n",
       "      <th>12</th>\n",
       "      <td>DALLAS</td>\n",
       "      <td>KPMG LLP</td>\n",
       "      <td>8</td>\n",
       "    </tr>\n",
       "    <tr>\n",
       "      <th>13</th>\n",
       "      <td>SAN FRANCISCO</td>\n",
       "      <td>DOORDASH INC</td>\n",
       "      <td>8</td>\n",
       "    </tr>\n",
       "    <tr>\n",
       "      <th>14</th>\n",
       "      <td>SAN FRANCISCO</td>\n",
       "      <td>TWITTER INC</td>\n",
       "      <td>7</td>\n",
       "    </tr>\n",
       "  </tbody>\n",
       "</table>\n",
       "</div>"
      ],
      "text/plain": [
       "               City                                Employer  DP\n",
       "0     MOUNTAIN VIEW                              GOOGLE LLC  67\n",
       "1         SUNNYVALE                         HCL AMERICA INC  64\n",
       "2   COLLEGE STATION  COGNIZANT TECHNOLOGY SOLUTIONS US CORP  51\n",
       "3        RICHARDSON                         INFOSYS LIMITED  50\n",
       "4          NEW YORK      MCKINSEY COMPANY INC UNITED STATES  14\n",
       "5     SAN FRANCISCO                   UBER TECHNOLOGIES INC  14\n",
       "6     SAN FRANCISCO                      SALESFORCE COM INC  13\n",
       "7          SAN JOSE                               ADOBE INC  12\n",
       "8         PALO ALTO                              VMWARE INC  11\n",
       "9            IRVING                           SCOTTLINE LLC  10\n",
       "10    MOUNTAIN VIEW                            SYNOPSYS INC  10\n",
       "11        SAN DIEGO                              VASTEK INC   9\n",
       "12           DALLAS                                KPMG LLP   8\n",
       "13    SAN FRANCISCO                            DOORDASH INC   8\n",
       "14    SAN FRANCISCO                             TWITTER INC   7"
      ]
     },
     "execution_count": 133,
     "metadata": {},
     "output_type": "execute_result"
    }
   ],
   "source": [
    "num_employers = 15\n",
    "city_employers_df = h1b_2022_stem.groupby(['City', 'Employer'])['DP'].sum().nlargest(num_employers).reset_index()\n",
    "city_employers_df"
   ]
  },
  {
   "cell_type": "markdown",
   "metadata": {},
   "source": [
    "**Observation: <br>Some what suprising. I expected a different list. But it makes sense since these companies tend to file for a lot of H-1B Visa Petitions. Perhaps, it's less about the employers.**"
   ]
  },
  {
   "cell_type": "markdown",
   "metadata": {},
   "source": [
    "Let us save and upload our work to Jovian before continuing."
   ]
  },
  {
   "cell_type": "code",
   "execution_count": 134,
   "metadata": {},
   "outputs": [
    {
     "data": {
      "application/javascript": [
       "window.require && require([\"base/js/namespace\"],function(Jupyter){Jupyter.notebook.save_checkpoint()})"
      ],
      "text/plain": [
       "<IPython.core.display.Javascript object>"
      ]
     },
     "metadata": {},
     "output_type": "display_data"
    },
    {
     "name": "stdout",
     "output_type": "stream",
     "text": [
      "[jovian] Updating notebook \"kyawhtetwin/h1b-visa-petitions\" on https://jovian.ai\u001b[0m\n",
      "[jovian] Committed successfully! https://jovian.ai/kyawhtetwin/h1b-visa-petitions\u001b[0m\n"
     ]
    },
    {
     "data": {
      "text/plain": [
       "'https://jovian.ai/kyawhtetwin/h1b-visa-petitions'"
      ]
     },
     "execution_count": 134,
     "metadata": {},
     "output_type": "execute_result"
    }
   ],
   "source": [
    "jovian.commit(project=project_name)"
   ]
  },
  {
   "cell_type": "markdown",
   "metadata": {},
   "source": [
    "## Inferences and Conclusion\n",
    "\n",
    "Over the last decade (2012-2022), USCIS has received and processed on average of about 380,000 H-1B visa applications per year. While the total number of petitions have been on the rise for most of the decade, peaking at 2021, the number of petitions have fallen below the decade average in 2022 and we saw it significantly drop by almost 30% from last year (Caution: Since the analysis is done in December of 2022, we don't have all the data for 2022 fiscal year). If I were to speculate based on the recent news of massive layoffs, especially in technical field, I wouldn't be surprised if I see two-digits percentage drop in the numbers from last year. \n",
    "\n",
    "In general, the approval rate of H-1B visa applications is pretty good (typically around 95%) except for 2018 and 2019 when it was much closer 85%. Perhaps, this was related to Donald Trump's policy on H-1B program. \n",
    "\n",
    "When it comes to industry, Professional, Scientific, and Technical Services (i.e. STEM occupations) have the highest demand for H-1B applicants, accounting for about 56% of all total approved applications from 2012 to 2021 and about half of all total approved applications in 2022. Manufacturing and Information sector also have high demand, representing more than 20% of all total approved applications over the decade.\n",
    "\n",
    "Moreover, if we break down the H-1B petitions by state, the four most popular states are California, Texas, New Jersey(Anybody surprised?), and New York in that order. In addition, New York City, San Francisco, Mountain View, San Jose,and Menlo Park top the list of cities where H-1B applications are approved in 2022. "
   ]
  },
  {
   "cell_type": "code",
   "execution_count": 138,
   "metadata": {},
   "outputs": [],
   "source": [
    "import jovian"
   ]
  },
  {
   "cell_type": "code",
   "execution_count": 139,
   "metadata": {},
   "outputs": [
    {
     "data": {
      "application/javascript": [
       "window.require && require([\"base/js/namespace\"],function(Jupyter){Jupyter.notebook.save_checkpoint()})"
      ],
      "text/plain": [
       "<IPython.core.display.Javascript object>"
      ]
     },
     "metadata": {},
     "output_type": "display_data"
    },
    {
     "name": "stdout",
     "output_type": "stream",
     "text": [
      "[jovian] Updating notebook \"kyawhtetwin/h1b-visa-petitions\" on https://jovian.ai\u001b[0m\n",
      "[jovian] Committed successfully! https://jovian.ai/kyawhtetwin/h1b-visa-petitions\u001b[0m\n"
     ]
    },
    {
     "data": {
      "text/plain": [
       "'https://jovian.ai/kyawhtetwin/h1b-visa-petitions'"
      ]
     },
     "execution_count": 139,
     "metadata": {},
     "output_type": "execute_result"
    }
   ],
   "source": [
    "jovian.commit()"
   ]
  },
  {
   "cell_type": "markdown",
   "metadata": {},
   "source": [
    "## References \n",
    "\n",
    "Useful Resources:<br>\n",
    "1. [Original Dataset](https://www.uscis.gov/tools/reports-and-studies/h-1b-employer-data-hub/h-1b-employer-data-hub-files)\n",
    "2. Numpy\n",
    "3. Pandas \n",
    "4. Matplotlib, Seaborn & Plotly"
   ]
  },
  {
   "cell_type": "code",
   "execution_count": 140,
   "metadata": {},
   "outputs": [],
   "source": [
    "import jovian"
   ]
  },
  {
   "cell_type": "code",
   "execution_count": 142,
   "metadata": {
    "scrolled": true
   },
   "outputs": [
    {
     "data": {
      "application/javascript": [
       "window.require && require([\"base/js/namespace\"],function(Jupyter){Jupyter.notebook.save_checkpoint()})"
      ],
      "text/plain": [
       "<IPython.core.display.Javascript object>"
      ]
     },
     "metadata": {},
     "output_type": "display_data"
    },
    {
     "name": "stdout",
     "output_type": "stream",
     "text": [
      "[jovian] Updating notebook \"kyawhtetwin/h1b-visa-petitions\" on https://jovian.ai\u001b[0m\n",
      "[jovian] Committed successfully! https://jovian.ai/kyawhtetwin/h1b-visa-petitions\u001b[0m\n"
     ]
    },
    {
     "data": {
      "text/plain": [
       "'https://jovian.ai/kyawhtetwin/h1b-visa-petitions'"
      ]
     },
     "execution_count": 142,
     "metadata": {},
     "output_type": "execute_result"
    }
   ],
   "source": [
    "jovian.commit()"
   ]
  },
  {
   "cell_type": "code",
   "execution_count": null,
   "metadata": {},
   "outputs": [],
   "source": []
  }
 ],
 "metadata": {
  "kernelspec": {
   "display_name": "Python 3 (ipykernel)",
   "language": "python",
   "name": "python3"
  },
  "language_info": {
   "codemirror_mode": {
    "name": "ipython",
    "version": 3
   },
   "file_extension": ".py",
   "mimetype": "text/x-python",
   "name": "python",
   "nbconvert_exporter": "python",
   "pygments_lexer": "ipython3",
   "version": "3.9.7"
  }
 },
 "nbformat": 4,
 "nbformat_minor": 4
}
